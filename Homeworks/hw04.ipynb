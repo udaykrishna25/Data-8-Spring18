{
 "cells": [
  {
   "cell_type": "markdown",
   "metadata": {},
   "source": [
    "# Homework 4: Functions, Histograms, and Groups"
   ]
  },
  {
   "cell_type": "markdown",
   "metadata": {},
   "source": [
    "**Reading**: \n",
    "\n",
    "* [Visualizing Numerical Distributions](https://www.inferentialthinking.com/chapters/07/2/visualizing-numerical-distributions.html) \n",
    "* [Functions and Tables](https://www.inferentialthinking.com/chapters/08/functions-and-tables.html)"
   ]
  },
  {
   "cell_type": "markdown",
   "metadata": {},
   "source": [
    "Please complete this notebook by filling in the cells provided. Before you begin, execute the following cell to load the provided tests. Each time you start your server, you will need to execute this cell again to load the tests.\n",
    "\n",
    "Homework 4 is due Thursday, 2/21 at 11:59pm. Start early so that you can come to office hours if you're stuck. Check the website for the office hours schedule.\n",
    "You will receive an early submission bonus point if you turn in your final submission by Wednesday, 2/20 at 11:59pm. Late work will not be accepted as per the [policies](http://data8.org/sp19/policies.html) of this course. \n",
    "\n",
    "Throughout this homework and all future ones, please be sure to not re-assign variables throughout the notebook! For example, if you use `max_temperature` in your answer to one question, do not reassign it later on. Moreover, please be sure to only put your written answers in the provided cells. "
   ]
  },
  {
   "cell_type": "code",
   "execution_count": 1,
   "metadata": {},
   "outputs": [
    {
     "name": "stdout",
     "output_type": "stream",
     "text": [
      "=====================================================================\n",
      "Assignment: Homework 4: Functions, Histograms, and Groups\n",
      "OK, version v1.12.5\n",
      "=====================================================================\n",
      "\n"
     ]
    }
   ],
   "source": [
    "# Don't change this cell; just run it. \n",
    "\n",
    "import numpy as np\n",
    "from datascience import *\n",
    "\n",
    "# These lines do some fancy plotting magic.\\n\",\n",
    "import matplotlib\n",
    "%matplotlib inline\n",
    "import matplotlib.pyplot as plt\n",
    "plt.style.use('fivethirtyeight')\n",
    "\n",
    "from client.api.notebook import Notebook\n",
    "ok = Notebook('hw04.ok')"
   ]
  },
  {
   "cell_type": "markdown",
   "metadata": {},
   "source": [
    "Before continuing the assignment, select \"Save and Checkpoint\" in the File menu and then execute the submit cell below. The result will contain a link that you can use to check that your assignment has been submitted successfully. If you submit more than once before the deadline, we will only grade your final submission. If you mistakenly submit the wrong one, you can head to okpy.org and flag the correct version. There will be another submit cell at the end of the assignment when you finish!"
   ]
  },
  {
   "cell_type": "code",
   "execution_count": null,
   "metadata": {},
   "outputs": [
    {
     "data": {
      "application/javascript": [
       "IPython.notebook.save_checkpoint();"
      ],
      "text/plain": [
       "<IPython.core.display.Javascript object>"
      ]
     },
     "metadata": {},
     "output_type": "display_data"
    }
   ],
   "source": [
    "_ = ok.submit()"
   ]
  },
  {
   "cell_type": "markdown",
   "metadata": {},
   "source": [
    "## 1. Causes of Death by Year\n"
   ]
  },
  {
   "cell_type": "markdown",
   "metadata": {},
   "source": [
    "This exercise is designed to give you practice using the Table method `pivot`. [Here](http://data8.org/sp19/python-reference.html) is a link to the Python reference page in case you need a quick refresher.\n",
    "\n",
    "We'll be looking at a [dataset](http://www.healthdata.gov/dataset/leading-causes-death-zip-code-1999-2013) from the California Department of Public Health that records the cause of death, as recorded on a death certificate, for everyone who died in California from 1999 to 2013.  The data is in the file `causes_of_death.csv.zip`. Each row records the number of deaths by a specific cause in one year in one ZIP code.\n",
    "\n",
    "To make the file smaller, we've compressed it; run the next cell to unzip and load it."
   ]
  },
  {
   "cell_type": "code",
   "execution_count": null,
   "metadata": {},
   "outputs": [],
   "source": [
    "!unzip -o causes_of_death.csv.zip\n",
    "causes = Table.read_table('causes_of_death.csv')\n",
    "causes.head()"
   ]
  },
  {
   "cell_type": "markdown",
   "metadata": {},
   "source": [
    "The causes of death in the data are abbreviated.  We've provided a table called `abbreviations.csv` to translate the abbreviations."
   ]
  },
  {
   "cell_type": "code",
   "execution_count": 6,
   "metadata": {},
   "outputs": [
    {
     "data": {
      "text/html": [
       "<table border=\"1\" class=\"dataframe\">\n",
       "    <thead>\n",
       "        <tr>\n",
       "            <th>Cause of Death</th> <th>Cause of Death (Full Description)</th>\n",
       "        </tr>\n",
       "    </thead>\n",
       "    <tbody>\n",
       "        <tr>\n",
       "            <td>AID           </td> <td>Acquired Immune Deficiency Syndrome (AIDS)           </td>\n",
       "        </tr>\n",
       "        <tr>\n",
       "            <td>ALZ           </td> <td>Alzheimer's Disease                                  </td>\n",
       "        </tr>\n",
       "        <tr>\n",
       "            <td>CAN           </td> <td>Malignant Neoplasms (Cancers)                        </td>\n",
       "        </tr>\n",
       "        <tr>\n",
       "            <td>CLD           </td> <td>Chronic Lower Respiratory Disease (CLRD)             </td>\n",
       "        </tr>\n",
       "        <tr>\n",
       "            <td>CPD           </td> <td>Chronic Obstructive Pulmonary Disease (COPD)         </td>\n",
       "        </tr>\n",
       "        <tr>\n",
       "            <td>DIA           </td> <td>Diabetes Mellitus                                    </td>\n",
       "        </tr>\n",
       "        <tr>\n",
       "            <td>HIV           </td> <td>Human Immunodeficiency Virus Disease (HIVD)          </td>\n",
       "        </tr>\n",
       "        <tr>\n",
       "            <td>HOM           </td> <td>Homicide                                             </td>\n",
       "        </tr>\n",
       "        <tr>\n",
       "            <td>HTD           </td> <td>Diseases of the Heart                                </td>\n",
       "        </tr>\n",
       "        <tr>\n",
       "            <td>HYP           </td> <td>Essential Hypertension and Hypertensive Renal Disease</td>\n",
       "        </tr>\n",
       "        <tr>\n",
       "            <td>INJ           </td> <td>Unintentional Injuries                               </td>\n",
       "        </tr>\n",
       "        <tr>\n",
       "            <td>LIV           </td> <td>Chronic Liver Disease and Cirrhosis                  </td>\n",
       "        </tr>\n",
       "        <tr>\n",
       "            <td>NEP           </td> <td>Kidney Disease (Nephritis)                           </td>\n",
       "        </tr>\n",
       "        <tr>\n",
       "            <td>OTH           </td> <td>All Other Causes                                     </td>\n",
       "        </tr>\n",
       "        <tr>\n",
       "            <td>PNF           </td> <td>Pneumonia and Influenza                              </td>\n",
       "        </tr>\n",
       "        <tr>\n",
       "            <td>STK           </td> <td>Cerebrovascular Disease (Stroke)                     </td>\n",
       "        </tr>\n",
       "        <tr>\n",
       "            <td>SUI           </td> <td>Intentional Self Harm (Suicide)                      </td>\n",
       "        </tr>\n",
       "    </tbody>\n",
       "</table>"
      ],
      "text/plain": [
       "<IPython.core.display.HTML object>"
      ]
     },
     "metadata": {},
     "output_type": "display_data"
    }
   ],
   "source": [
    "abbreviations = Table.read_table('abbreviations.csv')\n",
    "abbreviations.show()"
   ]
  },
  {
   "cell_type": "markdown",
   "metadata": {},
   "source": [
    "The dataset is missing data on certain causes of death, such as homicide and hypertensive renal disease, for certain years.  It looks like those causes of death are relatively rare, so for some purposes it makes sense to drop them from consideration.  Of course, we'll have to keep in mind that we're no longer looking at a comprehensive report on all deaths in California.\n",
    "\n",
    "**Question 1.** Let's clean up our data. First, filter out the HOM, HYP, and NEP rows from the table for the reasons described above. Next, join together the abbreviations table and our causes of death table so that we have a more detailed discription of each disease in each row. Lastly, drop the column which contains the acronym of the disease, and rename the column with the full description 'Cause of Death'. Assign the variable `cleaned_causes` to the resulting table. \n",
    "\n",
    "*Hint:* You should expect this to take more than one line. Use many lines and many intermediate tables to complete this question. "
   ]
  },
  {
   "cell_type": "code",
   "execution_count": null,
   "metadata": {
    "deletable": false,
    "for_assignment_type": "student"
   },
   "outputs": [],
   "source": [
    "a = abbreviations.where('Cause of Death', are.not_equal_to('HOM')).where('Cause of Death', are.not_equal_to('HYP')).where('Cause of Death', are.not_equal_to('NEP'))\n",
    "b = causes.join('Cause of Death',a,'Cause of Death')\n",
    "c = b.drop('Cause of Death')\n",
    "cleaned_causes = c.relabel('Cause of Death (Full Description)','Cause of Death')\n",
    "cleaned_causes.show()"
   ]
  },
  {
   "cell_type": "code",
   "execution_count": null,
   "metadata": {
    "deletable": false
   },
   "outputs": [],
   "source": [
    "_ = ok.grade('q1_1')"
   ]
  },
  {
   "cell_type": "markdown",
   "metadata": {},
   "source": [
    "We're going to examine the changes in causes of death over time.  To make a plot of those numbers, we need to have a table with one row per year, and the information about all the causes of death for each year.\n",
    "\n",
    "**Question 2.** Create a table with one row for each year and a column for each kind of death, where each cell contains the number of deaths by that cause in that year. Call the table `cleaned_causes_by_year`."
   ]
  },
  {
   "cell_type": "code",
   "execution_count": null,
   "metadata": {
    "deletable": false,
    "for_assignment_type": "student"
   },
   "outputs": [],
   "source": [
    "cleaned_causes_by_year = cleaned_causes.pivot('Cause of Death', 'Year', 'Count', sum)\n",
    "cleaned_causes_by_year.show(15)"
   ]
  },
  {
   "cell_type": "code",
   "execution_count": null,
   "metadata": {
    "deletable": false
   },
   "outputs": [],
   "source": [
    "_ = ok.grade('q1_2')"
   ]
  },
  {
   "cell_type": "markdown",
   "metadata": {},
   "source": [
    "**Question 3.** Make a plot of all the causes of death by year, using your cleaned-up version of the dataset.  There should be a single plot with one line per cause of death.\n",
    "\n",
    "*Hint:* Use the Table method `plot`.  If you pass only a single argument, a line will be made for each of the other columns."
   ]
  },
  {
   "cell_type": "code",
   "execution_count": null,
   "metadata": {
    "deletable": false,
    "manual_problem_id": "causes_of_death_3"
   },
   "outputs": [],
   "source": [
    "cleaned_causes_by_year.plot('Year')"
   ]
  },
  {
   "cell_type": "markdown",
   "metadata": {},
   "source": [
    "After seeing the plot above, we would now like to examine the distributions of diseases over the years using percentages. Below, we have assigned `distributions` to a table with all of the same columns, but the raw counts in the cells are replaced by the percentage of the the total number of deaths by a particular disease that happened in that specific year. \n",
    "\n",
    "Try to understand the code below. "
   ]
  },
  {
   "cell_type": "code",
   "execution_count": null,
   "metadata": {},
   "outputs": [],
   "source": [
    "def percents(array_x):\n",
    "    return np.round( (array_x/sum(array_x))*100, 2)\n",
    "\n",
    "labels = cleaned_causes_by_year.labels\n",
    "distributions = Table().with_columns(labels[0], cleaned_causes_by_year.column(0),\n",
    "                                     labels[1], percents(cleaned_causes_by_year.column(1)),\n",
    "                                     labels[2], percents(cleaned_causes_by_year.column(2)),\n",
    "                                     labels[3], percents(cleaned_causes_by_year.column(3)),\n",
    "                                     labels[4], percents(cleaned_causes_by_year.column(4)),\n",
    "                                     labels[5], percents(cleaned_causes_by_year.column(5)),\n",
    "                                     labels[6], percents(cleaned_causes_by_year.column(6)),\n",
    "                                     labels[7], percents(cleaned_causes_by_year.column(7)),\n",
    "                                     labels[8], percents(cleaned_causes_by_year.column(8)),\n",
    "                                     labels[9], percents(cleaned_causes_by_year.column(9)),\n",
    "                                     labels[10], percents(cleaned_causes_by_year.column(10)),\n",
    "                                     labels[11], percents(cleaned_causes_by_year.column(11)))\n",
    "distributions.show()"
   ]
  },
  {
   "cell_type": "markdown",
   "metadata": {},
   "source": [
    "**Question 4.** What is the sum (roughly) of each of the columns (except the Year column) in the table above? Why does this make sense? "
   ]
  },
  {
   "cell_type": "markdown",
   "metadata": {
    "deletable": false,
    "manual_problem_id": "causes_of_death_4",
    "scrolled": true
   },
   "source": [
    "The sum is roughly around 100. This is because the summation of the number of deaths will always give us 100 as they are mere percentages and will always add up to 100."
   ]
  },
  {
   "cell_type": "markdown",
   "metadata": {},
   "source": [
    "**Question 5:** We suspect that the larger percentage of stroke-related deaths over the years 1999-2013 happened in the earlier years, while the larger percentage of deaths related to Chronic Liver Disease over this time period occured in the most recent years. Draw a bar chart to display both of the distributions of these diseases over the time period. \n",
    "\n",
    "*Hint:* The relevant column labels are \"Cerebrovascular Disease (Stroke)\" and \"Chronic Liver Disease and Cirrhosis\""
   ]
  },
  {
   "cell_type": "code",
   "execution_count": null,
   "metadata": {
    "deletable": false,
    "manual_problem_id": "causes_of_death_5"
   },
   "outputs": [],
   "source": [
    "stroke_table = distributions.select('Year','Cerebrovascular Disease (Stroke)','Chronic Liver Disease and Cirrhosis').bar('Year')\n",
    "\n",
    "# Don't change the code below this comment.\n",
    "plt.title(\"% of total deaths / disease per year\")\n",
    "plt.xlabel(\"% of total deaths\")\n"
   ]
  },
  {
   "cell_type": "markdown",
   "metadata": {},
   "source": [
    "## 2. Faculty salaries\n"
   ]
  },
  {
   "cell_type": "markdown",
   "metadata": {},
   "source": [
    "In the next cell, we load a dataset created by the [Daily Cal](http://projects.dailycal.org/paychecker/) which contains Berkeley faculty, their departments, their positions, and their gross salaries in 2015."
   ]
  },
  {
   "cell_type": "code",
   "execution_count": null,
   "metadata": {},
   "outputs": [],
   "source": [
    "raw_profs = Table.read_table(\"faculty.csv\").where(\"year\", are.equal_to(2015)).drop(\"year\", \"title\")\n",
    "profs = raw_profs.relabel(\"title_category\", \"position\")\n",
    "profs"
   ]
  },
  {
   "cell_type": "markdown",
   "metadata": {},
   "source": [
    "We want to use this table to generate arrays with the names of each professor in each department."
   ]
  },
  {
   "cell_type": "markdown",
   "metadata": {},
   "source": [
    "**Question 1.** Set `prof_names` to a table with two columns. The first column should be called `department` and have the name of every department once, and the second column should be called `faculty` and contain an *array* of the names of all faculty members in that department. \n",
    "\n",
    "*Hint:* Think about how ```group``` works: it collects values into an array and then applies a function to that array. We have defined two functions below for you, and you will need to use one of them in your call to ```group```."
   ]
  },
  {
   "cell_type": "code",
   "execution_count": 15,
   "metadata": {},
   "outputs": [],
   "source": [
    "# Pick one of the two functions defined below in your call to group.\n",
    "def identity(array):\n",
    "    return array \n",
    "\n",
    "def first(array):\n",
    "    return array.item(0)"
   ]
  },
  {
   "cell_type": "code",
   "execution_count": 18,
   "metadata": {},
   "outputs": [
    {
     "data": {
      "text/html": [
       "<table border=\"1\" class=\"dataframe\">\n",
       "    <thead>\n",
       "        <tr>\n",
       "            <th>department</th> <th>faculty</th>\n",
       "        </tr>\n",
       "    </thead>\n",
       "    <tbody>\n",
       "        <tr>\n",
       "            <td>African American Studies                      </td> <td>['AYA DE LEON' 'CHIYUMA ELLIOTT' 'NIKKI JONES' 'DAVID KY ...</td>\n",
       "        </tr>\n",
       "        <tr>\n",
       "            <td>Agricultural and Resource Economics and Policy</td> <td>['MAXIMILIAN AUFFHAMMER' 'CHARLES GIBBONS' 'JEFFREY PERL ...</td>\n",
       "        </tr>\n",
       "        <tr>\n",
       "            <td>Anthroplogy                                   </td> <td>['SABRINA AGARWAL' 'STANLEY BRANDES' 'CHARLES BRIGGS'\n",
       " ' ...</td>\n",
       "        </tr>\n",
       "        <tr>\n",
       "            <td>Architecture                                  </td> <td>['MARK ANDERSON' 'JACOB ATHERTON' 'WILLIAM ATWOOD' 'R.GA ...</td>\n",
       "        </tr>\n",
       "        <tr>\n",
       "            <td>Art History                                   </td> <td>['DILIANA ANGELOVA' 'PATRICIA BERGER' 'JULIA BRYAN-WILSO ...</td>\n",
       "        </tr>\n",
       "        <tr>\n",
       "            <td>Art Practice                                  </td> <td>['ALLAN DESOUZA' 'AIDA GAMEZ' 'RANDY HUSSONG' 'JENNIFER  ...</td>\n",
       "        </tr>\n",
       "        <tr>\n",
       "            <td>Astronomy                                     </td> <td>['GIBOR BASRI' 'STEVEN BECKWITH' 'LEO BLITZ' 'EUGENE CHI ...</td>\n",
       "        </tr>\n",
       "        <tr>\n",
       "            <td>Bioengineering                                </td> <td>['ADAM ARKIN' 'IRINA CONBOY' 'STEVEN CONOLLY' 'JOHN DUEB ...</td>\n",
       "        </tr>\n",
       "        <tr>\n",
       "            <td>Biology                                       </td> <td>['DAVID ACKERLY' 'HILLEL ADESNIK' 'KELLY AGNEW' 'DORIS B ...</td>\n",
       "        </tr>\n",
       "        <tr>\n",
       "            <td>Buddhist Studies                              </td> <td>['JANN RONIS']                                              </td>\n",
       "        </tr>\n",
       "    </tbody>\n",
       "</table>\n",
       "<p>... (61 rows omitted)</p>"
      ],
      "text/plain": [
       "department                                     | faculty\n",
       "African American Studies                       | ['AYA DE LEON' 'CHIYUMA ELLIOTT' 'NIKKI JONES' 'DAVID KY ...\n",
       "Agricultural and Resource Economics and Policy | ['MAXIMILIAN AUFFHAMMER' 'CHARLES GIBBONS' 'JEFFREY PERL ...\n",
       "Anthroplogy                                    | ['SABRINA AGARWAL' 'STANLEY BRANDES' 'CHARLES BRIGGS'\n",
       " ' ...\n",
       "Architecture                                   | ['MARK ANDERSON' 'JACOB ATHERTON' 'WILLIAM ATWOOD' 'R.GA ...\n",
       "Art History                                    | ['DILIANA ANGELOVA' 'PATRICIA BERGER' 'JULIA BRYAN-WILSO ...\n",
       "Art Practice                                   | ['ALLAN DESOUZA' 'AIDA GAMEZ' 'RANDY HUSSONG' 'JENNIFER  ...\n",
       "Astronomy                                      | ['GIBOR BASRI' 'STEVEN BECKWITH' 'LEO BLITZ' 'EUGENE CHI ...\n",
       "Bioengineering                                 | ['ADAM ARKIN' 'IRINA CONBOY' 'STEVEN CONOLLY' 'JOHN DUEB ...\n",
       "Biology                                        | ['DAVID ACKERLY' 'HILLEL ADESNIK' 'KELLY AGNEW' 'DORIS B ...\n",
       "Buddhist Studies                               | ['JANN RONIS']\n",
       "... (61 rows omitted)"
      ]
     },
     "execution_count": 18,
     "metadata": {},
     "output_type": "execute_result"
    }
   ],
   "source": [
    "a = profs.select('department')\n",
    "b = profs.column('name')\n",
    "c = a.with_column('faculty',b)\n",
    "prof_names = c.group('department', identity).relabeled('faculty identity','faculty')\n",
    "prof_names"
   ]
  },
  {
   "cell_type": "code",
   "execution_count": 19,
   "metadata": {
    "deletable": false
   },
   "outputs": [
    {
     "name": "stdout",
     "output_type": "stream",
     "text": [
      "~~~~~~~~~~~~~~~~~~~~~~~~~~~~~~~~~~~~~~~~~~~~~~~~~~~~~~~~~~~~~~~~~~~~~\n",
      "Running tests\n",
      "\n",
      "---------------------------------------------------------------------\n",
      "Test summary\n",
      "    Passed: 1\n",
      "    Failed: 0\n",
      "[ooooooooook] 100.0% passed\n",
      "\n"
     ]
    }
   ],
   "source": [
    "_ = ok.grade('q2_1')"
   ]
  },
  {
   "cell_type": "markdown",
   "metadata": {},
   "source": [
    "**Question 2.** At the moment, the ```name``` column is sorted by last name. Would the arrays you generated in the previous part be the same if we had sorted by first name instead before generating them? Two arrays are the **same** if they contain the same number of elements and the elements located at corresponding indexes in the two arrays are identical. Explain your answer. If you feel you need to make certain assumptions about the data, feel free to state them in your response. "
   ]
  },
  {
   "cell_type": "markdown",
   "metadata": {
    "deletable": false,
    "manual_problem_id": "faculty_1"
   },
   "source": [
    "The arrays wouldn't be the same as although the number of elements would be constant, the location of each element would vary. This is because the first names would be aranged alphabetically and that would be different from the array for the last names being arranged alphabetically."
   ]
  },
  {
   "cell_type": "markdown",
   "metadata": {},
   "source": [
    "**Question 3.** Set `biggest_range_dept` to the name of the department with the largest salary range, where range is defined as the **difference between the highest salary and the lowest salary in the department**. \n",
    "\n",
    "*Hint:* First you'll need to define a new function `salary_range` which takes in an array of salaries and returns the salary range of the corresponding department. Then, set `department_ranges` to a table containing the names and salary ranges of each department. "
   ]
  },
  {
   "cell_type": "code",
   "execution_count": 20,
   "metadata": {},
   "outputs": [],
   "source": [
    "# Define salary_range in this cell\n",
    "def salary_range(gross_salary):\n",
    "    return max(gross_salary) - min(gross_salary)"
   ]
  },
  {
   "cell_type": "code",
   "execution_count": 36,
   "metadata": {},
   "outputs": [
    {
     "data": {
      "text/plain": [
       "'Economics'"
      ]
     },
     "execution_count": 36,
     "metadata": {},
     "output_type": "execute_result"
    }
   ],
   "source": [
    "a = profs.select('department')\n",
    "b = profs.column('gross_salary')\n",
    "c = a.with_column('salary_change', b)\n",
    "d = c.group('department', salary_range)\n",
    "biggest_range_dept = d.sort('salary_change salary_range',descending = True).column('department').item(0)\n",
    "biggest_range_dept"
   ]
  },
  {
   "cell_type": "code",
   "execution_count": 22,
   "metadata": {},
   "outputs": [
    {
     "data": {
      "text/html": [
       "<table border=\"1\" class=\"dataframe\">\n",
       "    <thead>\n",
       "        <tr>\n",
       "            <th>department</th> <th>name salary_range</th> <th>position salary_range</th> <th>gross_salary salary_range</th>\n",
       "        </tr>\n",
       "    </thead>\n",
       "    <tbody>\n",
       "        <tr>\n",
       "            <td>African American Studies                      </td> <td>                 </td> <td>                     </td> <td>146781                   </td>\n",
       "        </tr>\n",
       "        <tr>\n",
       "            <td>Agricultural and Resource Economics and Policy</td> <td>                 </td> <td>                     </td> <td>223480                   </td>\n",
       "        </tr>\n",
       "        <tr>\n",
       "            <td>Anthroplogy                                   </td> <td>                 </td> <td>                     </td> <td>265005                   </td>\n",
       "        </tr>\n",
       "        <tr>\n",
       "            <td>Architecture                                  </td> <td>                 </td> <td>                     </td> <td>240149                   </td>\n",
       "        </tr>\n",
       "        <tr>\n",
       "            <td>Art History                                   </td> <td>                 </td> <td>                     </td> <td>180065                   </td>\n",
       "        </tr>\n",
       "        <tr>\n",
       "            <td>Art Practice                                  </td> <td>                 </td> <td>                     </td> <td>152967                   </td>\n",
       "        </tr>\n",
       "        <tr>\n",
       "            <td>Astronomy                                     </td> <td>                 </td> <td>                     </td> <td>292362                   </td>\n",
       "        </tr>\n",
       "        <tr>\n",
       "            <td>Bioengineering                                </td> <td>                 </td> <td>                     </td> <td>199195                   </td>\n",
       "        </tr>\n",
       "        <tr>\n",
       "            <td>Biology                                       </td> <td>                 </td> <td>                     </td> <td>292583                   </td>\n",
       "        </tr>\n",
       "        <tr>\n",
       "            <td>Buddhist Studies                              </td> <td>                 </td> <td>                     </td> <td>0                        </td>\n",
       "        </tr>\n",
       "    </tbody>\n",
       "</table>\n",
       "<p>... (61 rows omitted)</p>"
      ],
      "text/plain": [
       "department                                     | name salary_range | position salary_range | gross_salary salary_range\n",
       "African American Studies                       |                   |                       | 146781\n",
       "Agricultural and Resource Economics and Policy |                   |                       | 223480\n",
       "Anthroplogy                                    |                   |                       | 265005\n",
       "Architecture                                   |                   |                       | 240149\n",
       "Art History                                    |                   |                       | 180065\n",
       "Art Practice                                   |                   |                       | 152967\n",
       "Astronomy                                      |                   |                       | 292362\n",
       "Bioengineering                                 |                   |                       | 199195\n",
       "Biology                                        |                   |                       | 292583\n",
       "Buddhist Studies                               |                   |                       | 0\n",
       "... (61 rows omitted)"
      ]
     },
     "execution_count": 22,
     "metadata": {},
     "output_type": "execute_result"
    }
   ],
   "source": [
    "hello = profs.group('department',salary_range)\n",
    "hello"
   ]
  },
  {
   "cell_type": "code",
   "execution_count": 37,
   "metadata": {
    "deletable": false
   },
   "outputs": [
    {
     "name": "stdout",
     "output_type": "stream",
     "text": [
      "~~~~~~~~~~~~~~~~~~~~~~~~~~~~~~~~~~~~~~~~~~~~~~~~~~~~~~~~~~~~~~~~~~~~~\n",
      "Running tests\n",
      "\n",
      "---------------------------------------------------------------------\n",
      "Test summary\n",
      "    Passed: 2\n",
      "    Failed: 0\n",
      "[ooooooooook] 100.0% passed\n",
      "\n"
     ]
    }
   ],
   "source": [
    "_ = ok.grade('q2_3')"
   ]
  },
  {
   "cell_type": "markdown",
   "metadata": {},
   "source": [
    "## 3. Submission\n"
   ]
  },
  {
   "cell_type": "markdown",
   "metadata": {
    "collapsed": true
   },
   "source": [
    "Once you're finished, select \"Save and Checkpoint\" in the File menu and then execute the `submit` cell below. The result will contain a link that you can use to check that your assignment has been submitted successfully. If you submit more than once before the deadline, we will only grade your final submission. If you mistakenly submit the wrong one, you can head to [okpy.org](https://okpy.org/) and flag the correct version. To do so, go to the website, click on this assignment, and find the version you would like to have graded. There should be an option to flag that submission for grading!"
   ]
  },
  {
   "cell_type": "code",
   "execution_count": 38,
   "metadata": {},
   "outputs": [
    {
     "data": {
      "application/javascript": [
       "IPython.notebook.save_checkpoint();"
      ],
      "text/plain": [
       "<IPython.core.display.Javascript object>"
      ]
     },
     "metadata": {},
     "output_type": "display_data"
    },
    {
     "data": {
      "application/javascript": [
       "IPython.notebook.save_notebook();"
      ],
      "text/plain": [
       "<IPython.core.display.Javascript object>"
      ]
     },
     "metadata": {},
     "output_type": "display_data"
    },
    {
     "name": "stdout",
     "output_type": "stream",
     "text": [
      "Saving notebook... Saved 'hw04.ipynb'.\n",
      "Submit... 100% complete\n",
      "Submission successful for user: udaykrishna25@berkeley.edu\n",
      "URL: https://okpy.org/cal/data8/sp19/hw04/submissions/BNLJpY\n",
      "\n"
     ]
    }
   ],
   "source": [
    "_ = ok.submit()"
   ]
  },
  {
   "cell_type": "code",
   "execution_count": 39,
   "metadata": {},
   "outputs": [
    {
     "name": "stdout",
     "output_type": "stream",
     "text": [
      "Running all tests...\n",
      "~~~~~~~~~~~~~~~~~~~~~~~~~~~~~~~~~~~~~~~~~~~~~~~~~~~~~~~~~~~~~~~~~~~~~\n",
      "Running tests\n",
      "\n",
      "---------------------------------------------------------------------\n",
      "Test summary\n",
      "    Passed: 1\n",
      "    Failed: 0\n",
      "[ooooooooook] 100.0% passed\n",
      "\n",
      "~~~~~~~~~~~~~~~~~~~~~~~~~~~~~~~~~~~~~~~~~~~~~~~~~~~~~~~~~~~~~~~~~~~~~\n",
      "Running tests\n",
      "\n",
      "---------------------------------------------------------------------\n",
      "Test summary\n",
      "    Passed: 1\n",
      "    Failed: 0\n",
      "[ooooooooook] 100.0% passed\n",
      "\n",
      "~~~~~~~~~~~~~~~~~~~~~~~~~~~~~~~~~~~~~~~~~~~~~~~~~~~~~~~~~~~~~~~~~~~~~\n",
      "Running tests\n",
      "\n",
      "---------------------------------------------------------------------\n",
      "Test summary\n",
      "    Passed: 2\n",
      "    Failed: 0\n",
      "[ooooooooook] 100.0% passed\n",
      "\n",
      "~~~~~~~~~~~~~~~~~~~~~~~~~~~~~~~~~~~~~~~~~~~~~~~~~~~~~~~~~~~~~~~~~~~~~\n",
      "Running tests\n",
      "\n",
      "---------------------------------------------------------------------\n",
      "Test summary\n",
      "    Passed: 1\n",
      "    Failed: 0\n",
      "[ooooooooook] 100.0% passed\n",
      "\n",
      "Finished running all tests.\n"
     ]
    }
   ],
   "source": [
    "# For your convenience, you can run this cell to run all the tests at once!\n",
    "import os\n",
    "print(\"Running all tests...\")\n",
    "_ = [ok.grade(q[:-3]) for q in os.listdir(\"tests\") if q.startswith('q') and len(q) <= 10]\n",
    "print(\"Finished running all tests.\")"
   ]
  },
  {
   "cell_type": "code",
   "execution_count": null,
   "metadata": {},
   "outputs": [],
   "source": []
  }
 ],
 "metadata": {
  "kernelspec": {
   "display_name": "Python 3",
   "language": "python",
   "name": "python3"
  },
  "language_info": {
   "codemirror_mode": {
    "name": "ipython",
    "version": 3
   },
   "file_extension": ".py",
   "mimetype": "text/x-python",
   "name": "python",
   "nbconvert_exporter": "python",
   "pygments_lexer": "ipython3",
   "version": "3.6.8"
  }
 },
 "nbformat": 4,
 "nbformat_minor": 1
}
