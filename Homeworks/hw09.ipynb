{
 "cells": [
  {
   "cell_type": "code",
   "execution_count": 1,
   "metadata": {
    "deletable": false,
    "editable": false
   },
   "outputs": [
    {
     "name": "stdout",
     "output_type": "stream",
     "text": [
      "=====================================================================\n",
      "Assignment: Homework 9: Central Limit Theorem\n",
      "OK, version v1.12.5\n",
      "=====================================================================\n",
      "\n"
     ]
    }
   ],
   "source": [
    "# Initialize OK\n",
    "from client.api.notebook import Notebook\n",
    "ok = Notebook('hw09.ok')"
   ]
  },
  {
   "cell_type": "markdown",
   "metadata": {},
   "source": [
    "# Homework 9: Central Limit Theorem"
   ]
  },
  {
   "cell_type": "markdown",
   "metadata": {},
   "source": [
    "**Reading**: \n",
    "* [Why the mean matters](https://www.inferentialthinking.com/chapters/14/why-the-mean-matters.html)"
   ]
  },
  {
   "cell_type": "markdown",
   "metadata": {},
   "source": [
    "Please complete this notebook by filling in the cells provided. Before you begin, execute the following cell to load the provided tests. Each time you start your server, you will need to execute this cell again to load the tests.\n",
    "\n",
    "Homework 9 is due **Thursday, 4/11 at 11:59pm**. You will receive an early submission bonus point if you turn in your final submission by Wednesday, 4/10 at 11:59pm. Start early so that you can come to office hours if you're stuck. Check the website for the office hours schedule. Late work will not be accepted as per the [policies](http://data8.org/sp19/policies.html) of this course. \n",
    "\n",
    "Directly sharing answers is not okay, but discussing problems with the course staff or with other students is encouraged. Refer to the policies page to learn more about how to learn cooperatively.\n",
    "\n",
    "For all problems that you must write our explanations and sentences for, you **must** provide your answer in the designated space. Moreover, throughout this homework and all future ones, please be sure to not re-assign variables throughout the notebook! For example, if you use `max_temperature` in your answer to one question, do not reassign it later on."
   ]
  },
  {
   "cell_type": "code",
   "execution_count": 2,
   "metadata": {},
   "outputs": [
    {
     "name": "stdout",
     "output_type": "stream",
     "text": [
      "=====================================================================\n",
      "Assignment: Homework 9: Central Limit Theorem\n",
      "OK, version v1.12.5\n",
      "=====================================================================\n",
      "\n"
     ]
    }
   ],
   "source": [
    "# Don't change this cell; just run it. \n",
    "\n",
    "import numpy as np\n",
    "from datascience import *\n",
    "\n",
    "# These lines do some fancy plotting magic.\n",
    "import matplotlib\n",
    "%matplotlib inline\n",
    "import matplotlib.pyplot as plt\n",
    "plt.style.use('fivethirtyeight')\n",
    "import warnings\n",
    "warnings.simplefilter('ignore', FutureWarning)\n",
    "\n",
    "from client.api.notebook import Notebook\n",
    "ok = Notebook('hw09.ok')"
   ]
  },
  {
   "cell_type": "markdown",
   "metadata": {},
   "source": [
    "## 1. The Bootstrap and The Normal Curve\n"
   ]
  },
  {
   "cell_type": "markdown",
   "metadata": {},
   "source": [
    "In this exercise, we will explore a dataset that includes the safety inspection scores for restaurants in the city of Austin, Texas.  We will be interested in determining the average restaurant score for the city from a random sample of the scores; the average restaurant score is out of 100. We'll compare two methods for computing a confidence interval for that quantity: the bootstrap resampling method, and an approximation based on the Central Limit Theorem."
   ]
  },
  {
   "cell_type": "code",
   "execution_count": 3,
   "metadata": {},
   "outputs": [
    {
     "data": {
      "text/html": [
       "<table border=\"1\" class=\"dataframe\">\n",
       "    <thead>\n",
       "        <tr>\n",
       "            <th>Restaurant Name</th> <th>Zip Code</th> <th>Inspection Date</th> <th>Score</th> <th>Address</th>\n",
       "        </tr>\n",
       "    </thead>\n",
       "    <tbody>\n",
       "        <tr>\n",
       "            <td>6M Grocery     </td> <td>78652   </td> <td>01/17/2014     </td> <td>90   </td> <td>805 W FM 1626 RD\n",
       "AUSTIN, TX 78652\n",
       "     </td>\n",
       "        </tr>\n",
       "        <tr>\n",
       "            <td>6M Grocery     </td> <td>78652   </td> <td>04/27/2015     </td> <td>93   </td> <td>805 W FM 1626 RD\n",
       "AUSTIN, TX 78652\n",
       "     </td>\n",
       "        </tr>\n",
       "        <tr>\n",
       "            <td>6M Grocery     </td> <td>78652   </td> <td>05/02/2016     </td> <td>88   </td> <td>805 W FM 1626 RD\n",
       "AUSTIN, TX 78652\n",
       "     </td>\n",
       "        </tr>\n",
       "        <tr>\n",
       "            <td>6M Grocery     </td> <td>78652   </td> <td>07/25/2014     </td> <td>100  </td> <td>805 W FM 1626 RD\n",
       "AUSTIN, TX 78652\n",
       "     </td>\n",
       "        </tr>\n",
       "        <tr>\n",
       "            <td>6M Grocery     </td> <td>78652   </td> <td>10/21/2015     </td> <td>87   </td> <td>805 W FM 1626 RD\n",
       "AUSTIN, TX 78652\n",
       "     </td>\n",
       "        </tr>\n",
       "        <tr>\n",
       "            <td>6M Grocery     </td> <td>78652   </td> <td>12/15/2014     </td> <td>93   </td> <td>805 W FM 1626 RD\n",
       "AUSTIN, TX 78652\n",
       "     </td>\n",
       "        </tr>\n",
       "        <tr>\n",
       "            <td>7 Eleven #36575</td> <td>78660   </td> <td>01/25/2016     </td> <td>92   </td> <td>15829 N IH 35 SVRD NB\n",
       "AUSTIN, TX 78660\n",
       "</td>\n",
       "        </tr>\n",
       "        <tr>\n",
       "            <td>7 Eleven #36575</td> <td>78660   </td> <td>03/05/2015     </td> <td>86   </td> <td>15829 N IH 35 SVRD NB\n",
       "AUSTIN, TX 78660\n",
       "</td>\n",
       "        </tr>\n",
       "        <tr>\n",
       "            <td>7 Eleven #36575</td> <td>78660   </td> <td>03/14/2014     </td> <td>93   </td> <td>15829 N IH 35 SVRD NB\n",
       "AUSTIN, TX 78660\n",
       "</td>\n",
       "        </tr>\n",
       "        <tr>\n",
       "            <td>7 Eleven #36575</td> <td>78660   </td> <td>07/27/2015     </td> <td>97   </td> <td>15829 N IH 35 SVRD NB\n",
       "AUSTIN, TX 78660\n",
       "</td>\n",
       "        </tr>\n",
       "    </tbody>\n",
       "</table>\n",
       "<p>... (24357 rows omitted)</p>"
      ],
      "text/plain": [
       "Restaurant Name | Zip Code | Inspection Date | Score | Address\n",
       "6M Grocery      | 78652    | 01/17/2014      | 90    | 805 W FM 1626 RD\n",
       "AUSTIN, TX 78652\n",
       "6M Grocery      | 78652    | 04/27/2015      | 93    | 805 W FM 1626 RD\n",
       "AUSTIN, TX 78652\n",
       "6M Grocery      | 78652    | 05/02/2016      | 88    | 805 W FM 1626 RD\n",
       "AUSTIN, TX 78652\n",
       "6M Grocery      | 78652    | 07/25/2014      | 100   | 805 W FM 1626 RD\n",
       "AUSTIN, TX 78652\n",
       "6M Grocery      | 78652    | 10/21/2015      | 87    | 805 W FM 1626 RD\n",
       "AUSTIN, TX 78652\n",
       "6M Grocery      | 78652    | 12/15/2014      | 93    | 805 W FM 1626 RD\n",
       "AUSTIN, TX 78652\n",
       "7 Eleven #36575 | 78660    | 01/25/2016      | 92    | 15829 N IH 35 SVRD NB\n",
       "AUSTIN, TX 78660\n",
       "7 Eleven #36575 | 78660    | 03/05/2015      | 86    | 15829 N IH 35 SVRD NB\n",
       "AUSTIN, TX 78660\n",
       "7 Eleven #36575 | 78660    | 03/14/2014      | 93    | 15829 N IH 35 SVRD NB\n",
       "AUSTIN, TX 78660\n",
       "7 Eleven #36575 | 78660    | 07/27/2015      | 97    | 15829 N IH 35 SVRD NB\n",
       "AUSTIN, TX 78660\n",
       "... (24357 rows omitted)"
      ]
     },
     "execution_count": 3,
     "metadata": {},
     "output_type": "execute_result"
    }
   ],
   "source": [
    "# Just run this cell.\n",
    "pop_restaurants = Table.read_table('restaurant_inspection_scores.csv').drop(5,6)\n",
    "pop_restaurants"
   ]
  },
  {
   "cell_type": "markdown",
   "metadata": {},
   "source": [
    "Run the cell below to plot a histogram of the scores from `pop_restaurants`."
   ]
  },
  {
   "cell_type": "code",
   "execution_count": 4,
   "metadata": {
    "deletable": false
   },
   "outputs": [
    {
     "data": {
      "image/png": "[encoded data removed]",
      "text/plain": [
       "<Figure size 432x288 with 1 Axes>"
      ]
     },
     "metadata": {},
     "output_type": "display_data"
    }
   ],
   "source": [
    "pop_restaurants.hist('Score')"
   ]
  },
  {
   "cell_type": "markdown",
   "metadata": {},
   "source": [
    "This is the **population mean**:"
   ]
  },
  {
   "cell_type": "code",
   "execution_count": 5,
   "metadata": {},
   "outputs": [
    {
     "data": {
      "text/plain": [
       "91.40706693478886"
      ]
     },
     "execution_count": 5,
     "metadata": {},
     "output_type": "execute_result"
    }
   ],
   "source": [
    "pop_mean = np.mean(pop_restaurants.column(3))\n",
    "pop_mean"
   ]
  },
  {
   "cell_type": "markdown",
   "metadata": {},
   "source": [
    "Often it is impossible to find complete datasets like this.  Imagine we instead had access only to a random sample of 100 restaurant inspections, called `restaurant_sample`.  That table is created below. We are interested in using this sample to estimate the population mean."
   ]
  },
  {
   "cell_type": "code",
   "execution_count": 6,
   "metadata": {},
   "outputs": [
    {
     "data": {
      "text/html": [
       "<table border=\"1\" class=\"dataframe\">\n",
       "    <thead>\n",
       "        <tr>\n",
       "            <th>Restaurant Name</th> <th>Zip Code</th> <th>Inspection Date</th> <th>Score</th> <th>Address</th>\n",
       "        </tr>\n",
       "    </thead>\n",
       "    <tbody>\n",
       "        <tr>\n",
       "            <td>H & H Ballroom                              </td> <td>78744   </td> <td>02/20/2015     </td> <td>88   </td> <td>4404 BRANDT RD\n",
       "AUSTIN, TX 78744\n",
       "(30.159142, -97.773253)     </td>\n",
       "        </tr>\n",
       "        <tr>\n",
       "            <td>Great American Cookie Company               </td> <td>78613   </td> <td>08/04/2016     </td> <td>97   </td> <td>11200 LAKELINE MALL DR\n",
       "AUSTIN, TX 78613\n",
       "(30.471859, -97. ...</td>\n",
       "        </tr>\n",
       "        <tr>\n",
       "            <td>Wells Branch Elementary                     </td> <td>78728   </td> <td>02/18/2014     </td> <td>100  </td> <td>14650 MERRILLTOWN DR\n",
       "AUSTIN, TX 78728\n",
       "(30.44516, -97.68541) </td>\n",
       "        </tr>\n",
       "        <tr>\n",
       "            <td>Taco Bell                                   </td> <td>78757   </td> <td>06/09/2016     </td> <td>96   </td> <td>7793 BURNET RD\n",
       "AUSTIN, TX 78757\n",
       "(30.354586, -97.731747)     </td>\n",
       "        </tr>\n",
       "        <tr>\n",
       "            <td>Taco Cabana #206                            </td> <td>78745   </td> <td>03/04/2016     </td> <td>92   </td> <td>2117 W BEN WHITE BLVD EB\n",
       "AUSTIN, TX 78745\n",
       "(30.23097, -97 ...</td>\n",
       "        </tr>\n",
       "        <tr>\n",
       "            <td>Los Reyes Mexican Grill & Seafood Restaurant</td> <td>78750   </td> <td>12/05/2014     </td> <td>94   </td> <td>13776 N US 183 HWY SB Unit 145\n",
       "AUSTIN, TX 78750\n",
       "(30.4620 ...</td>\n",
       "        </tr>\n",
       "        <tr>\n",
       "            <td>Capitol Nursing and Rehab Center            </td> <td>78748   </td> <td>09/29/2016     </td> <td>100  </td> <td>3200 W SLAUGHTER LN\n",
       "AUSTIN, TX 78748\n",
       "(30.17993, -97.842251) </td>\n",
       "        </tr>\n",
       "        <tr>\n",
       "            <td>Flaming Pizza                               </td> <td>78758   </td> <td>09/21/2015     </td> <td>90   </td> <td>3220 FEATHERGRASS CT Unit 140\n",
       "AUSTIN, TX 78758\n",
       "(30.39492 ...</td>\n",
       "        </tr>\n",
       "        <tr>\n",
       "            <td>Souper Salad                                </td> <td>78704   </td> <td>07/08/2016     </td> <td>91   </td> <td>4211 S LAMAR BLVD NB Bldg A\n",
       "AUSTIN, TX 78704\n",
       "(30.234848, ...</td>\n",
       "        </tr>\n",
       "        <tr>\n",
       "            <td>La Catracha                                 </td> <td>78758   </td> <td>12/24/2014     </td> <td>97   </td> <td>10500 N LAMAR BLVD\n",
       "AUSTIN, TX 78758\n",
       "(30.373198, -97.691311) </td>\n",
       "        </tr>\n",
       "    </tbody>\n",
       "</table>\n",
       "<p>... (90 rows omitted)</p>"
      ],
      "text/plain": [
       "Restaurant Name                              | Zip Code | Inspection Date | Score | Address\n",
       "H & H Ballroom                               | 78744    | 02/20/2015      | 88    | 4404 BRANDT RD\n",
       "AUSTIN, TX 78744\n",
       "(30.159142, -97.773253)\n",
       "Great American Cookie Company                | 78613    | 08/04/2016      | 97    | 11200 LAKELINE MALL DR\n",
       "AUSTIN, TX 78613\n",
       "(30.471859, -97. ...\n",
       "Wells Branch Elementary                      | 78728    | 02/18/2014      | 100   | 14650 MERRILLTOWN DR\n",
       "AUSTIN, TX 78728\n",
       "(30.44516, -97.68541)\n",
       "Taco Bell                                    | 78757    | 06/09/2016      | 96    | 7793 BURNET RD\n",
       "AUSTIN, TX 78757\n",
       "(30.354586, -97.731747)\n",
       "Taco Cabana #206                             | 78745    | 03/04/2016      | 92    | 2117 W BEN WHITE BLVD EB\n",
       "AUSTIN, TX 78745\n",
       "(30.23097, -97 ...\n",
       "Los Reyes Mexican Grill & Seafood Restaurant | 78750    | 12/05/2014      | 94    | 13776 N US 183 HWY SB Unit 145\n",
       "AUSTIN, TX 78750\n",
       "(30.4620 ...\n",
       "Capitol Nursing and Rehab Center             | 78748    | 09/29/2016      | 100   | 3200 W SLAUGHTER LN\n",
       "AUSTIN, TX 78748\n",
       "(30.17993, -97.842251)\n",
       "Flaming Pizza                                | 78758    | 09/21/2015      | 90    | 3220 FEATHERGRASS CT Unit 140\n",
       "AUSTIN, TX 78758\n",
       "(30.39492 ...\n",
       "Souper Salad                                 | 78704    | 07/08/2016      | 91    | 4211 S LAMAR BLVD NB Bldg A\n",
       "AUSTIN, TX 78704\n",
       "(30.234848, ...\n",
       "La Catracha                                  | 78758    | 12/24/2014      | 97    | 10500 N LAMAR BLVD\n",
       "AUSTIN, TX 78758\n",
       "(30.373198, -97.691311)\n",
       "... (90 rows omitted)"
      ]
     },
     "execution_count": 6,
     "metadata": {},
     "output_type": "execute_result"
    }
   ],
   "source": [
    "restaurant_sample = pop_restaurants.sample(100, with_replacement=False)\n",
    "restaurant_sample"
   ]
  },
  {
   "cell_type": "markdown",
   "metadata": {},
   "source": [
    "Run the cell below to plot a histogram of the **sample** scores from `restaurant_sample`."
   ]
  },
  {
   "cell_type": "code",
   "execution_count": 7,
   "metadata": {
    "deletable": false
   },
   "outputs": [
    {
     "data": {
      "image/png": "[encoded data removed]",
      "text/plain": [
       "<Figure size 432x288 with 1 Axes>"
      ]
     },
     "metadata": {},
     "output_type": "display_data"
    }
   ],
   "source": [
    "restaurant_sample.hist('Score') "
   ]
  },
  {
   "cell_type": "markdown",
   "metadata": {},
   "source": [
    "This is the **sample mean**:"
   ]
  },
  {
   "cell_type": "code",
   "execution_count": 8,
   "metadata": {},
   "outputs": [
    {
     "data": {
      "text/plain": [
       "90.61"
      ]
     },
     "execution_count": 8,
     "metadata": {},
     "output_type": "execute_result"
    }
   ],
   "source": [
    "sample_mean = np.mean(restaurant_sample.column(3))\n",
    "sample_mean"
   ]
  },
  {
   "cell_type": "markdown",
   "metadata": {
    "deletable": false,
    "editable": false
   },
   "source": [
    "#### Question 1\n",
    "Complete the function `one_resampled_mean` below. It should take in an original table `data`, with a column `Score`, and return the mean score of one resampling from `data`. \n",
    "\n",
    "Remember to check the output of all running your functions before moving to the autograder test.\n",
    "<!--\n",
    "BEGIN QUESTION\n",
    "name: q1_1\n",
    "manual: false\n",
    "-->"
   ]
  },
  {
   "cell_type": "code",
   "execution_count": 9,
   "metadata": {},
   "outputs": [
    {
     "data": {
      "text/plain": [
       "91.45569828046128"
      ]
     },
     "execution_count": 9,
     "metadata": {},
     "output_type": "execute_result"
    }
   ],
   "source": [
    "def one_resampled_mean(data):\n",
    "    resampled_data = data.sample()\n",
    "    return np.average(resampled_data.column('Score'))\n",
    "\n",
    "# Visualize one call of your function:\n",
    "this_mean = one_resampled_mean(pop_restaurants)\n",
    "this_mean"
   ]
  },
  {
   "cell_type": "code",
   "execution_count": 10,
   "metadata": {
    "deletable": false,
    "editable": false
   },
   "outputs": [
    {
     "name": "stdout",
     "output_type": "stream",
     "text": [
      "~~~~~~~~~~~~~~~~~~~~~~~~~~~~~~~~~~~~~~~~~~~~~~~~~~~~~~~~~~~~~~~~~~~~~\n",
      "Running tests\n",
      "\n",
      "---------------------------------------------------------------------\n",
      "Test summary\n",
      "    Passed: 1\n",
      "    Failed: 0\n",
      "[ooooooooook] 100.0% passed\n",
      "\n"
     ]
    }
   ],
   "source": [
    "ok.grade(\"q1_1\");"
   ]
  },
  {
   "cell_type": "markdown",
   "metadata": {
    "deletable": false,
    "editable": false
   },
   "source": [
    "#### Question 2\n",
    "Complete the function `bootstrap_scores` below. It should take no arguments. It should simulate drawing 5000 resamples from `restaurant_sample` and computing the mean restaurant score in each resample.  It should return an array of those 5000 resample means.\n",
    "<!--\n",
    "BEGIN QUESTION\n",
    "name: q1_2\n",
    "manual: false\n",
    "-->"
   ]
  },
  {
   "cell_type": "code",
   "execution_count": 11,
   "metadata": {
    "deletable": false,
    "manual_problem_id": "restaurant_bootstrap_means"
   },
   "outputs": [
    {
     "data": {
      "text/plain": [
       "array([89.91, 91.45, 89.63, ..., 89.92, 91.7 , 89.71])"
      ]
     },
     "execution_count": 11,
     "metadata": {},
     "output_type": "execute_result"
    }
   ],
   "source": [
    "def bootstrap_scores():\n",
    "    resampled_means = make_array()\n",
    "    for i in range(5000):\n",
    "        resampled_mean = one_resampled_mean(restaurant_sample)\n",
    "        resampled_means = np.append(resampled_means,resampled_mean)\n",
    "    return resampled_means\n",
    "\n",
    "resampled_means = bootstrap_scores()\n",
    "resampled_means"
   ]
  },
  {
   "cell_type": "code",
   "execution_count": 12,
   "metadata": {
    "deletable": false,
    "editable": false
   },
   "outputs": [
    {
     "name": "stdout",
     "output_type": "stream",
     "text": [
      "~~~~~~~~~~~~~~~~~~~~~~~~~~~~~~~~~~~~~~~~~~~~~~~~~~~~~~~~~~~~~~~~~~~~~\n",
      "Running tests\n",
      "\n",
      "---------------------------------------------------------------------\n",
      "Test summary\n",
      "    Passed: 2\n",
      "    Failed: 0\n",
      "[ooooooooook] 100.0% passed\n",
      "\n"
     ]
    }
   ],
   "source": [
    "ok.grade(\"q1_2\");"
   ]
  },
  {
   "cell_type": "markdown",
   "metadata": {},
   "source": [
    "Take a look at the histogram of the **resampled means**."
   ]
  },
  {
   "cell_type": "code",
   "execution_count": 13,
   "metadata": {},
   "outputs": [
    {
     "data": {
      "image/png": "[encoded data removed]",
      "text/plain": [
       "<Figure size 432x288 with 1 Axes>"
      ]
     },
     "metadata": {},
     "output_type": "display_data"
    }
   ],
   "source": [
    "Table().with_column('Resampled Means', resampled_means).hist()"
   ]
  },
  {
   "cell_type": "markdown",
   "metadata": {
    "deletable": false,
    "editable": false
   },
   "source": [
    "#### Question 3\n",
    "Compute a 95 percent confidence interval for the average restaurant score using the array `resampled_means`.\n",
    "<!--\n",
    "BEGIN QUESTION\n",
    "name: q1_3\n",
    "manual: false\n",
    "-->"
   ]
  },
  {
   "cell_type": "code",
   "execution_count": 14,
   "metadata": {
    "deletable": false,
    "manual_problem_id": "bootstrap_4"
   },
   "outputs": [
    {
     "name": "stdout",
     "output_type": "stream",
     "text": [
      "95% confidence interval for the average restaurant score, computed by bootstrapping:\n",
      "( 88.85 , 92.22 )\n"
     ]
    }
   ],
   "source": [
    "lower_bound = percentile(2.5,resampled_means)\n",
    "upper_bound = percentile(97.5,resampled_means)\n",
    "print(\"95% confidence interval for the average restaurant score, computed by bootstrapping:\\n(\",lower_bound, \",\", upper_bound, \")\")"
   ]
  },
  {
   "cell_type": "markdown",
   "metadata": {
    "deletable": false,
    "editable": false
   },
   "source": [
    "#### Question 4\n",
    "Does the distribution of the resampled mean scores look normally distributed? State \"yes\" or \"no\" and describe in one sentence why you would expect that result.\n",
    "<!--\n",
    "BEGIN QUESTION\n",
    "name: q1_4\n",
    "manual: true\n",
    "-->\n",
    "<!-- EXPORT TO PDF -->"
   ]
  },
  {
   "cell_type": "markdown",
   "metadata": {
    "deletable": false,
    "export_pdf": true,
    "manual_problem_id": "bootstrap_6"
   },
   "source": [
    "Yes, it does look normally distributed. We got this result because of the central limit theorm and because we are iterating it 5000 times (a large number of times)."
   ]
  },
  {
   "cell_type": "markdown",
   "metadata": {
    "deletable": false,
    "editable": false
   },
   "source": [
    "#### Question 5\n",
    "Does the distribution of the **sampled scores** look normally distributed? State \"yes\" or \"no\" and describe in one sentence why you should expect this result.\n",
    "\n",
    "**Hint:** Remember that we are no longer talking about the resampled means!\n",
    "<!--\n",
    "BEGIN QUESTION\n",
    "name: q1_5\n",
    "manual: true\n",
    "-->\n",
    "<!-- EXPORT TO PDF -->"
   ]
  },
  {
   "cell_type": "markdown",
   "metadata": {
    "deletable": false,
    "export_pdf": true,
    "manual_problem_id": "bootstrap_5"
   },
   "source": [
    "No, it does not look normally distributed. This is because the central limit theorm works on sums and averages however 'score' is neither of them. "
   ]
  },
  {
   "cell_type": "markdown",
   "metadata": {},
   "source": [
    "For the last question, you'll need to recall two facts.\n",
    "1. If a group of numbers has a normal distribution, around 95% of them lie within 2 standard deviations of their mean.\n",
    "2. The Central Limit Theorem tells us the quantitative relationship between the following:\n",
    "    * the standard deviation of an array of numbers.\n",
    "    * the standard deviation of an array of means of samples taken from those numbers."
   ]
  },
  {
   "cell_type": "markdown",
   "metadata": {
    "deletable": false,
    "editable": false
   },
   "source": [
    "#### Question 6\n",
    "Without referencing the array `resampled_means` or performing any new simulations, calculate an interval around the `sample_mean` that covers approximately 95% of the numbers in the `resampled_means` array.  **You may use the following values to compute your result, but you should not perform additional resampling** - think about how you can use the CLT to accomplish this.\n",
    "<!--\n",
    "BEGIN QUESTION\n",
    "name: q1_6\n",
    "manual: false\n",
    "-->"
   ]
  },
  {
   "cell_type": "code",
   "execution_count": 15,
   "metadata": {
    "deletable": false,
    "for_assignment_type": "student",
    "manual_problem_id": "bootstrap_7"
   },
   "outputs": [
    {
     "name": "stdout",
     "output_type": "stream",
     "text": [
      "95% confidence interval for the average restaurant score, computed by a normal approximation:\n",
      "( 88.88422017626813 , 92.33577982373187 )\n"
     ]
    }
   ],
   "source": [
    "sample_mean = np.mean(restaurant_sample.column(3))\n",
    "sample_sd = np.std(restaurant_sample.column(3))\n",
    "sample_size = restaurant_sample.num_rows\n",
    "\n",
    "sd_of_means = sample_sd/(sample_size)**0.5\n",
    "lower_bound_normal = -2*sd_of_means + sample_mean\n",
    "upper_bound_normal = 2*sd_of_means + sample_mean\n",
    "print(\"95% confidence interval for the average restaurant score, computed by a normal approximation:\\n(\",lower_bound_normal, \",\", upper_bound_normal, \")\")"
   ]
  },
  {
   "cell_type": "markdown",
   "metadata": {},
   "source": [
    "This confidence interval should look very similar to the one you computed in **Question 3**."
   ]
  },
  {
   "cell_type": "markdown",
   "metadata": {},
   "source": [
    "## 2. Testing the Central Limit Theorem\n"
   ]
  },
  {
   "cell_type": "markdown",
   "metadata": {},
   "source": [
    "The Central Limit Theorem tells us that the probability distribution of the **sum** or **average** of a large random sample drawn with replacement will be roughly normal, *regardless of the distribution of the population from which the sample is drawn*.\n",
    "\n",
    "That's a pretty big claim, but the theorem doesn't stop there. It further states that the standard deviation of this normal distribution is given by \n",
    "\n",
    "$$\\frac{\\texttt{sd of the original distribution}}{\\sqrt{\\texttt{sample size}}}$$ \n",
    "\n",
    "In other words, suppose we start with *any distribution* that has standard deviation $x$, take a sample of size $n$ (where $n$ is a large number) from that distribution with replacement, and compute the **mean** of that sample. If we repeat this procedure many times, then those sample means will have a normal distribution with standard deviation $\\frac{x}{\\sqrt{n}}$.\n",
    "\n",
    "That's an even bigger claim than the first one! The proof of the theorem is beyond the scope of this class, but in this exercise, we will be exploring some data to see the CLT in action."
   ]
  },
  {
   "cell_type": "markdown",
   "metadata": {
    "deletable": false,
    "editable": false
   },
   "source": [
    "<div class=\"hide\">\\pagebreak</div>\n",
    "\n",
    "**Question 1.** Define the function `one_statistic_prop_heads` which should return exactly one simulated statistic of the proportion of heads from $n$ coin flips.\n",
    "\n",
    "<!--\n",
    "BEGIN QUESTION\n",
    "name: q2_1\n",
    "manual: false\n",
    "-->"
   ]
  },
  {
   "cell_type": "code",
   "execution_count": 16,
   "metadata": {},
   "outputs": [],
   "source": [
    "coin_proportions = make_array(.5, .5) # our coin is fair\n",
    "\n",
    "def one_statistic_prop_heads(n):\n",
    "    simulated_proportions = sample_proportions(n,coin_proportions)\n",
    "    prop_heads = simulated_proportions.item(0)\n",
    "    return prop_heads"
   ]
  },
  {
   "cell_type": "code",
   "execution_count": 17,
   "metadata": {
    "deletable": false,
    "editable": false
   },
   "outputs": [
    {
     "name": "stdout",
     "output_type": "stream",
     "text": [
      "~~~~~~~~~~~~~~~~~~~~~~~~~~~~~~~~~~~~~~~~~~~~~~~~~~~~~~~~~~~~~~~~~~~~~\n",
      "Running tests\n",
      "\n",
      "---------------------------------------------------------------------\n",
      "Test summary\n",
      "    Passed: 1\n",
      "    Failed: 0\n",
      "[ooooooooook] 100.0% passed\n",
      "\n"
     ]
    }
   ],
   "source": [
    "ok.grade(\"q2_1\");"
   ]
  },
  {
   "cell_type": "markdown",
   "metadata": {
    "deletable": false,
    "editable": false
   },
   "source": [
    "<div class=\"hide\">\\pagebreak</div>\n",
    "\n",
    "**Question 2.** The CLT only applies when sample sizes are \"sufficiently large.\" This isn't a very precise statement. Is 10 large?  How about 50?  The truth is that it depends both on the original population distribution and just how \"normal\" you want the result to look. Let's use a simulation to get a feel for how the distribution of the sample mean changes as sample size goes up.\n",
    "\n",
    "Consider a coin flip. If we say `Heads` is $1$ and `Tails` is $0$, then there's a 50% chance of getting a 1 and a 50% chance of getting a 0, which definitely doesn't match our definition of a normal distribution.  The average of several coin tosses, where Heads is 1 and Tails is 0, is equal to the proportion of heads in those coin tosses (which is equivalent to the mean value of the coin tosses), so the CLT should hold **true** if we compute the sample proportion of heads many times.\n",
    "\n",
    "Write a function called `sample_size_n` that takes in a sample size $n$. It should return an array that contains 5000 sample proportions of heads, each from $n$ coin flips.\n",
    "\n",
    "<!--\n",
    "BEGIN QUESTION\n",
    "name: q2_2\n",
    "manual: false\n",
    "-->"
   ]
  },
  {
   "cell_type": "code",
   "execution_count": 18,
   "metadata": {
    "deletable": false,
    "manual_problem_id": "sample_sizes"
   },
   "outputs": [],
   "source": [
    "def sample_size_n(n):\n",
    "    coin_proportions = make_array(.5, .5) # our coin is fair\n",
    "    heads_proportions = make_array()\n",
    "    for i in np.arange(5000):\n",
    "        prop_heads = sample_proportions(n,coin_proportions).item(0)\n",
    "        heads_proportions = np.append(heads_proportions,prop_heads)\n",
    "    return heads_proportions"
   ]
  },
  {
   "cell_type": "markdown",
   "metadata": {},
   "source": [
    "<div class=\"hide\">\\pagebreak</div>\n",
    "The code below will use the function you just defined to plot the empirical distribution of the sample mean for various sample sizes. Drag the slider or click on the number to the right to type in a sample size of your choice. The x- and y-scales are kept the same to facilitate comparisons. Notice the shape of the graph as the sample size increases and decreases."
   ]
  },
  {
   "cell_type": "code",
   "execution_count": 19,
   "metadata": {
    "deletable": false,
    "editable": false,
    "scrolled": false
   },
   "outputs": [
    {
     "data": {
      "application/vnd.jupyter.widget-view+json": {
       "model_id": "3a8a45099ed64960aea8aef91be24268",
       "version_major": 2,
       "version_minor": 0
      },
      "text/plain": [
       "interactive(children=(IntSlider(value=200, description='x', max=400), Output()), _dom_classes=('widget-interac…"
      ]
     },
     "metadata": {},
     "output_type": "display_data"
    }
   ],
   "source": [
    "# Just run this cell\n",
    "from ipywidgets import interact\n",
    "\n",
    "def outer(f):\n",
    "    def graph(x):\n",
    "        bins = np.arange(-0.01,1.05,0.02)\n",
    "        sample_props = f(x)\n",
    "        Table().with_column('Sample Size: {}'.format(x), sample_props).hist(bins=bins)\n",
    "        plt.ylim(0, 30)\n",
    "        print('Sample SD:', np.std(sample_props))\n",
    "        plt.show()\n",
    "    return graph\n",
    "    \n",
    "interact(outer(sample_size_n), x=(0, 400, 1), continuous_update=False);\n",
    "\n",
    "# Min sample size is 0, max is 400\n",
    "# The graph will refresh a few times when you drag the slider around"
   ]
  },
  {
   "cell_type": "markdown",
   "metadata": {},
   "source": [
    "You can see that even the means of samples of 10 items follow a roughly bell-shaped distribution.  A sample of 50 items looks quite bell-shaped."
   ]
  },
  {
   "cell_type": "markdown",
   "metadata": {
    "deletable": false,
    "editable": false,
    "manual_problem_id": "clt_2"
   },
   "source": [
    "<div class=\"hide\">\\pagebreak</div>\n",
    "\n",
    "**Question 3:** In the plot for a sample size of 10, why are the bars spaced at intervals of .1, with gaps in between?\n",
    "\n",
    "<!--\n",
    "BEGIN QUESTION\n",
    "name: q2_3\n",
    "manual: true\n",
    "-->\n",
    "<!-- EXPORT TO PDF -->"
   ]
  },
  {
   "cell_type": "markdown",
   "metadata": {
    "deletable": false,
    "export_pdf": true,
    "manual_problem_id": "clt_2"
   },
   "source": [
    "The bars are spaced at intervals of 0.1 because when we divide by the sample size of 10, then we're going to get intervals of 0.1 and all our data will be within those intervals."
   ]
  },
  {
   "cell_type": "markdown",
   "metadata": {},
   "source": [
    "<div class=\"hide\">\\pagebreak</div>\n",
    "Now we will test the second claim of the CLT: That the SD of the sample mean is the SD of the original distribution, divided by the square root of the sample size.\n",
    "\n",
    "We have imported the flight delay data and computed its standard deviation for you."
   ]
  },
  {
   "cell_type": "code",
   "execution_count": 20,
   "metadata": {},
   "outputs": [
    {
     "data": {
      "text/plain": [
       "39.480199851609314"
      ]
     },
     "execution_count": 20,
     "metadata": {},
     "output_type": "execute_result"
    }
   ],
   "source": [
    "united = Table.read_table('united_summer2015.csv')\n",
    "united_std = np.std(united.column('Delay'))\n",
    "united_std"
   ]
  },
  {
   "cell_type": "markdown",
   "metadata": {
    "deletable": false,
    "editable": false
   },
   "source": [
    "<div class=\"hide\">\\pagebreak</div>\n",
    "\n",
    "**Question 4:** Write a function called `empirical_sample_mean_sd` that takes a sample size `n` as its argument. The function should simulate 500 samples with replacement of size `n` from the flight delays dataset, and it should return the standard deviation of the **means of those 500 samples**.\n",
    "\n",
    "*Hint:* This function will be similar to the `sample_size_n` function you wrote earlier.\n",
    "\n",
    "<!--\n",
    "BEGIN QUESTION\n",
    "name: q2_4\n",
    "manual: false\n",
    "-->"
   ]
  },
  {
   "cell_type": "code",
   "execution_count": 21,
   "metadata": {
    "deletable": false,
    "manual_problem_id": "empirical_sample_mean"
   },
   "outputs": [
    {
     "data": {
      "text/plain": [
       "12.647618417710111"
      ]
     },
     "execution_count": 21,
     "metadata": {},
     "output_type": "execute_result"
    }
   ],
   "source": [
    "def empirical_sample_mean_sd(n):\n",
    "    sample_means = make_array()\n",
    "    for i in np.arange(500):\n",
    "        sample = united.sample(n)\n",
    "        sample_mean = np.mean(sample.column('Delay'))\n",
    "        sample_means = np.append(sample_means,sample_mean)\n",
    "    return np.std(sample_means)\n",
    "\n",
    "empirical_sample_mean_sd(10)"
   ]
  },
  {
   "cell_type": "code",
   "execution_count": 22,
   "metadata": {
    "deletable": false,
    "editable": false
   },
   "outputs": [
    {
     "name": "stdout",
     "output_type": "stream",
     "text": [
      "~~~~~~~~~~~~~~~~~~~~~~~~~~~~~~~~~~~~~~~~~~~~~~~~~~~~~~~~~~~~~~~~~~~~~\n",
      "Running tests\n",
      "\n",
      "---------------------------------------------------------------------\n",
      "Test summary\n",
      "    Passed: 1\n",
      "    Failed: 0\n",
      "[ooooooooook] 100.0% passed\n",
      "\n"
     ]
    }
   ],
   "source": [
    "ok.grade(\"q2_4\");"
   ]
  },
  {
   "cell_type": "markdown",
   "metadata": {
    "deletable": false,
    "editable": false
   },
   "source": [
    "**Question 5:** Now, write a function called `predict_sample_mean_sd` to find the predicted value of the standard deviation of means according to the relationship between the standard deviation of the sample mean and sample size that is discussed [here](https://www.inferentialthinking.com/chapters/14/5/variability-of-the-sample-mean.html) in the textbook. It takes a sample size `n` (a number) as its argument.  It returns the predicted value of the standard deviation of the mean delay time for samples of size `n` from the flight delays (represented in the table `united`).\n",
    "\n",
    "<!--\n",
    "BEGIN QUESTION\n",
    "name: q2_5\n",
    "manual: false\n",
    "-->"
   ]
  },
  {
   "cell_type": "code",
   "execution_count": 23,
   "metadata": {
    "deletable": false,
    "manual_problem_id": "predict_sample_mean_sd"
   },
   "outputs": [
    {
     "data": {
      "text/plain": [
       "12.484735400972708"
      ]
     },
     "execution_count": 23,
     "metadata": {},
     "output_type": "execute_result"
    }
   ],
   "source": [
    "def predict_sample_mean_sd(n):\n",
    "    return np.std(united.column('Delay'))/(n**0.5)\n",
    "\n",
    "predict_sample_mean_sd(10)"
   ]
  },
  {
   "cell_type": "code",
   "execution_count": 24,
   "metadata": {
    "deletable": false,
    "editable": false
   },
   "outputs": [
    {
     "name": "stdout",
     "output_type": "stream",
     "text": [
      "~~~~~~~~~~~~~~~~~~~~~~~~~~~~~~~~~~~~~~~~~~~~~~~~~~~~~~~~~~~~~~~~~~~~~\n",
      "Running tests\n",
      "\n",
      "---------------------------------------------------------------------\n",
      "Test summary\n",
      "    Passed: 1\n",
      "    Failed: 0\n",
      "[ooooooooook] 100.0% passed\n",
      "\n"
     ]
    }
   ],
   "source": [
    "ok.grade(\"q2_5\");"
   ]
  },
  {
   "cell_type": "markdown",
   "metadata": {},
   "source": [
    "<div class=\"hide\">\\pagebreak</div>\n",
    "The cell below will plot the predicted and empirical SDs for the delay data for various sample sizes."
   ]
  },
  {
   "cell_type": "code",
   "execution_count": 25,
   "metadata": {
    "deletable": false,
    "editable": false
   },
   "outputs": [
    {
     "data": {
      "image/png": "[encoded data removed]",
      "text/plain": [
       "<Figure size 360x360 with 1 Axes>"
      ]
     },
     "metadata": {},
     "output_type": "display_data"
    }
   ],
   "source": [
    "sd_table = Table().with_column('Sample Size', np.arange(1,101))\n",
    "predicted = sd_table.apply(predict_sample_mean_sd, 'Sample Size')\n",
    "empirical = sd_table.apply(empirical_sample_mean_sd, 'Sample Size')\n",
    "sd_table = sd_table.with_columns('Predicted SD', predicted, 'Empirical SD', empirical)\n",
    "sd_table.scatter('Sample Size')"
   ]
  },
  {
   "cell_type": "markdown",
   "metadata": {
    "deletable": false,
    "editable": false
   },
   "source": [
    "<div class=\"hide\">\\pagebreak</div>\n",
    "\n",
    "**Question 6:** Do our predicted and empirical values match? Why is this the case?\n",
    "\n",
    "**Hint:** Are there any laws that we learned about in class that might help explain this?\n",
    "\n",
    "<!--\n",
    "BEGIN QUESTION\n",
    "name: q2_6\n",
    "manual: true\n",
    "-->\n",
    "<!-- EXPORT TO PDF -->"
   ]
  },
  {
   "cell_type": "markdown",
   "metadata": {
    "deletable": false,
    "export_pdf": true,
    "manual_problem_id": "clt_5"
   },
   "source": [
    "Yes the predicted and empirical values match. This is because of the law of averages."
   ]
  },
  {
   "cell_type": "markdown",
   "metadata": {},
   "source": [
    "## 3. Polling and the Normal Distribution\n"
   ]
  },
  {
   "cell_type": "markdown",
   "metadata": {
    "deletable": false,
    "editable": false
   },
   "source": [
    "#### Question 1\n",
    "\n",
    "Michelle is a statistical consultant, and she works for a group that supports Proposition 68 (which would mandate labeling of all horizontal or vertical axes), called Yes on 68.  They want to know how many Californians will vote for the proposition.\n",
    "\n",
    "Michelle polls a uniform random sample of all California voters, and she finds that 210 of the 400 sampled voters will vote in favor of the proposition. Fill in the code below to form a table with 3 columns: the first two columns should be identical to `sample`. The third column should be named `Proportion` and have the proportion of total voters that chose each option.\n",
    "\n",
    "<!--\n",
    "BEGIN QUESTION\n",
    "name: q3_1\n",
    "manual: false\n",
    "-->"
   ]
  },
  {
   "cell_type": "code",
   "execution_count": 26,
   "metadata": {
    "ExecuteTime": {
     "end_time": "2018-03-20T04:34:23.388186Z",
     "start_time": "2018-03-20T04:34:23.372185Z"
    },
    "deletable": false,
    "manual_problem_id": "sample_with_proportions"
   },
   "outputs": [
    {
     "data": {
      "text/html": [
       "<table border=\"1\" class=\"dataframe\">\n",
       "    <thead>\n",
       "        <tr>\n",
       "            <th>Vote</th> <th>Count</th> <th>Proportion</th>\n",
       "        </tr>\n",
       "    </thead>\n",
       "    <tbody>\n",
       "        <tr>\n",
       "            <td>Yes </td> <td>210  </td> <td>0.525     </td>\n",
       "        </tr>\n",
       "        <tr>\n",
       "            <td>No  </td> <td>190  </td> <td>0.475     </td>\n",
       "        </tr>\n",
       "    </tbody>\n",
       "</table>"
      ],
      "text/plain": [
       "Vote | Count | Proportion\n",
       "Yes  | 210   | 0.525\n",
       "No   | 190   | 0.475"
      ]
     },
     "execution_count": 26,
     "metadata": {},
     "output_type": "execute_result"
    }
   ],
   "source": [
    "sample = Table().with_columns(\n",
    "    \"Vote\",  make_array(\"Yes\", \"No\"),\n",
    "    \"Count\", make_array(210,   190))\n",
    "sample_size = 400\n",
    "proportion = sample.column('Count')/sample_size\n",
    "sample_with_proportions = sample.with_column('Proportion',proportion)\n",
    "sample_with_proportions"
   ]
  },
  {
   "cell_type": "code",
   "execution_count": 27,
   "metadata": {
    "deletable": false,
    "editable": false
   },
   "outputs": [
    {
     "name": "stdout",
     "output_type": "stream",
     "text": [
      "~~~~~~~~~~~~~~~~~~~~~~~~~~~~~~~~~~~~~~~~~~~~~~~~~~~~~~~~~~~~~~~~~~~~~\n",
      "Running tests\n",
      "\n",
      "---------------------------------------------------------------------\n",
      "Test summary\n",
      "    Passed: 1\n",
      "    Failed: 0\n",
      "[ooooooooook] 100.0% passed\n",
      "\n"
     ]
    }
   ],
   "source": [
    "ok.grade(\"q3_1\");"
   ]
  },
  {
   "cell_type": "markdown",
   "metadata": {
    "deletable": false,
    "editable": false
   },
   "source": [
    "#### Question 2\n",
    "\n",
    "She then wants to use 10,000 bootstrap resamples to compute a confidence interval for the proportion of all California voters who will vote Yes.  Fill in the next cell to simulate an  empirical distribution of Yes proportions with 10,000 resamples. In other words, use bootstrap resampling to simulate 10,000 election outcomes, and populate `resample_yes_proportions` with the yes proportion of each bootstrap resample. Then, visualize `resample_yes_proportions` with a histogram. You should see a bell shaped curve centered near the proportion of Yes in the original sample.\n",
    "\n",
    "<!--\n",
    "BEGIN QUESTION\n",
    "name: q3_2\n",
    "manual: false\n",
    "-->"
   ]
  },
  {
   "cell_type": "code",
   "execution_count": 28,
   "metadata": {
    "ExecuteTime": {
     "end_time": "2018-03-20T04:35:22.190065Z",
     "start_time": "2018-03-20T04:35:21.777769Z"
    },
    "deletable": false,
    "manual_problem_id": "resample_yes_proportions"
   },
   "outputs": [
    {
     "data": {
      "image/png": "[encoded data removed]",
      "text/plain": [
       "<Figure size 432x288 with 1 Axes>"
      ]
     },
     "metadata": {},
     "output_type": "display_data"
    }
   ],
   "source": [
    "resample_yes_proportions = make_array()\n",
    "for i in np.arange(10000):\n",
    "    resample = sample_proportions(400,sample_with_proportions.column('Proportion')).item(0)\n",
    "    resample_yes_proportions = np.append(resample_yes_proportions,resample)\n",
    "Table().with_column(\"Resample Yes proportion\", resample_yes_proportions).hist(bins=np.arange(.2, .8, .01))"
   ]
  },
  {
   "cell_type": "code",
   "execution_count": 29,
   "metadata": {
    "deletable": false,
    "editable": false
   },
   "outputs": [
    {
     "name": "stdout",
     "output_type": "stream",
     "text": [
      "~~~~~~~~~~~~~~~~~~~~~~~~~~~~~~~~~~~~~~~~~~~~~~~~~~~~~~~~~~~~~~~~~~~~~\n",
      "Running tests\n",
      "\n",
      "---------------------------------------------------------------------\n",
      "Test summary\n",
      "    Passed: 1\n",
      "    Failed: 0\n",
      "[ooooooooook] 100.0% passed\n",
      "\n"
     ]
    }
   ],
   "source": [
    "ok.grade(\"q3_2\");"
   ]
  },
  {
   "cell_type": "markdown",
   "metadata": {
    "deletable": false,
    "editable": false
   },
   "source": [
    "#### Question 3\n",
    "Why does the Central Limit Theorem (CLT) apply in this situation, and how does it explain the distribution we see above?\n",
    "\n",
    "<!--\n",
    "BEGIN QUESTION\n",
    "name: q3_3\n",
    "manual: true\n",
    "-->\n",
    "<!-- EXPORT TO PDF -->"
   ]
  },
  {
   "cell_type": "markdown",
   "metadata": {
    "deletable": false,
    "export_pdf": true,
    "manual_problem_id": "polling_3"
   },
   "source": [
    "CLT states that the distribution of resampled means is roughly normal and proportion of yes votes is a mean, so we are able to apply it here."
   ]
  },
  {
   "cell_type": "markdown",
   "metadata": {},
   "source": [
    "<div class=\"hide\">\\pagebreak</div>\n",
    "In a population whose members are 0 and 1, there is a simple formula for the standard deviation of that population:\n",
    "\n",
    "$$\\texttt{standard deviation} = \\sqrt{(\\text{proportion of 0s}) \\times (\\text{proportion of 1s})}$$\n",
    "\n",
    "(Figuring out this formula, starting from the definition of the standard deviation, is an fun exercise for those who enjoy algebra.)"
   ]
  },
  {
   "cell_type": "markdown",
   "metadata": {
    "deletable": false,
    "editable": false
   },
   "source": [
    "#### Question 4\n",
    "Using only the CLT and the numbers of Yes and No voters in our sample of 400, compute (_algebraically_) a number `approximate_sd` that's the predicted standard deviation of the array `resample_yes_proportions` according to the Central Limit Theorem. **Do not access the data in `resample_yes_proportions` in any way.** Remember that a predicted standard deviation of the sample means can be computed from the population SD and the size of the sample. \n",
    "\n",
    "Also remember that if we do not know the population SD, we can use the sample SD as a reasonable approximation in its place.\n",
    "\n",
    "<!--\n",
    "BEGIN QUESTION\n",
    "name: q3_4\n",
    "manual: false\n",
    "-->"
   ]
  },
  {
   "cell_type": "code",
   "execution_count": 20,
   "metadata": {
    "ExecuteTime": {
     "end_time": "2018-03-20T04:35:33.660846Z",
     "start_time": "2018-03-20T04:35:33.652810Z"
    },
    "deletable": false,
    "manual_problem_id": "approximate_sd"
   },
   "outputs": [
    {
     "data": {
      "text/plain": [
       "0.024968730444297725"
      ]
     },
     "execution_count": 20,
     "metadata": {},
     "output_type": "execute_result"
    }
   ],
   "source": [
    "approximate_sd = np.sqrt((0.525)*(0.475))/20\n",
    "approximate_sd"
   ]
  },
  {
   "cell_type": "code",
   "execution_count": 21,
   "metadata": {
    "deletable": false,
    "editable": false
   },
   "outputs": [
    {
     "name": "stdout",
     "output_type": "stream",
     "text": [
      "~~~~~~~~~~~~~~~~~~~~~~~~~~~~~~~~~~~~~~~~~~~~~~~~~~~~~~~~~~~~~~~~~~~~~\n",
      "Running tests\n",
      "\n",
      "---------------------------------------------------------------------\n",
      "Test summary\n",
      "    Passed: 1\n",
      "    Failed: 0\n",
      "[ooooooooook] 100.0% passed\n",
      "\n"
     ]
    }
   ],
   "source": [
    "ok.grade(\"q3_4\");"
   ]
  },
  {
   "cell_type": "markdown",
   "metadata": {
    "deletable": false,
    "editable": false
   },
   "source": [
    "#### Question 5\n",
    "\n",
    "Compute the SD of the array `resample_yes_proportions` which will act as an approximation to the true SD of the possible sample proportions. This will help verify whether your answer to question 2 is approximately correct. \n",
    "\n",
    "<!--\n",
    "BEGIN QUESTION\n",
    "name: q3_5\n",
    "manual: false\n",
    "-->"
   ]
  },
  {
   "cell_type": "code",
   "execution_count": 22,
   "metadata": {
    "ExecuteTime": {
     "end_time": "2018-03-20T04:35:34.753988Z",
     "start_time": "2018-03-20T04:35:34.745953Z"
    },
    "deletable": false,
    "manual_problem_id": "exact_sd"
   },
   "outputs": [
    {
     "ename": "NameError",
     "evalue": "name 'resample_yes_proportions' is not defined",
     "output_type": "error",
     "traceback": [
      "\u001b[0;31m---------------------------------------------------------------------------\u001b[0m",
      "\u001b[0;31mNameError\u001b[0m                                 Traceback (most recent call last)",
      "\u001b[0;32m<ipython-input-22-f0e934808b2b>\u001b[0m in \u001b[0;36m<module>\u001b[0;34m\u001b[0m\n\u001b[0;32m----> 1\u001b[0;31m \u001b[0mexact_sd\u001b[0m \u001b[0;34m=\u001b[0m \u001b[0mnp\u001b[0m\u001b[0;34m.\u001b[0m\u001b[0mstd\u001b[0m\u001b[0;34m(\u001b[0m\u001b[0mresample_yes_proportions\u001b[0m\u001b[0;34m)\u001b[0m\u001b[0;34m\u001b[0m\u001b[0;34m\u001b[0m\u001b[0m\n\u001b[0m\u001b[1;32m      2\u001b[0m \u001b[0mexact_sd\u001b[0m\u001b[0;34m\u001b[0m\u001b[0;34m\u001b[0m\u001b[0m\n",
      "\u001b[0;31mNameError\u001b[0m: name 'resample_yes_proportions' is not defined"
     ]
    }
   ],
   "source": [
    "exact_sd = np.std(resample_yes_proportions)\n",
    "exact_sd"
   ]
  },
  {
   "cell_type": "code",
   "execution_count": null,
   "metadata": {
    "deletable": false,
    "editable": false
   },
   "outputs": [],
   "source": [
    "ok.grade(\"q3_5\");"
   ]
  },
  {
   "cell_type": "markdown",
   "metadata": {
    "deletable": false,
    "editable": false
   },
   "source": [
    "#### Question 6\n",
    "**Again, without accessing `resample_yes_proportions` in any way**, compute an approximate 95% confidence interval for the proportion of Yes voters in California.\n",
    "\n",
    "The cell below draws your interval as a red bar below the histogram of `resample_yes_proportions`; use that to verify that your answer looks right.\n",
    "\n",
    "*Hint:* How many SDs corresponds to 95% of the distribution promised by the CLT? Recall the discussion in the textbook <a href = \"https://www.inferentialthinking.com/chapters/14/3/sd-and-the-normal-curve.html\"> here. </a>\n",
    "\n",
    "<!--\n",
    "BEGIN QUESTION\n",
    "name: q3_6\n",
    "manual: false\n",
    "-->"
   ]
  },
  {
   "cell_type": "code",
   "execution_count": 23,
   "metadata": {
    "ExecuteTime": {
     "end_time": "2018-03-20T04:35:42.572582Z",
     "start_time": "2018-03-20T04:35:42.560545Z"
    },
    "deletable": false,
    "manual_problem_id": "ci_without_data"
   },
   "outputs": [
    {
     "name": "stdout",
     "output_type": "stream",
     "text": [
      "lower: 0.47506253911140456 upper: 0.5749374608885954\n"
     ]
    }
   ],
   "source": [
    "lower_limit = -2*approximate_sd+0.525\n",
    "upper_limit = 2*approximate_sd+0.525\n",
    "print('lower:', lower_limit, 'upper:', upper_limit)"
   ]
  },
  {
   "cell_type": "code",
   "execution_count": 24,
   "metadata": {
    "deletable": false,
    "editable": false
   },
   "outputs": [
    {
     "name": "stdout",
     "output_type": "stream",
     "text": [
      "~~~~~~~~~~~~~~~~~~~~~~~~~~~~~~~~~~~~~~~~~~~~~~~~~~~~~~~~~~~~~~~~~~~~~\n",
      "Running tests\n",
      "\n",
      "---------------------------------------------------------------------\n",
      "Test summary\n",
      "    Passed: 1\n",
      "    Failed: 0\n",
      "[ooooooooook] 100.0% passed\n",
      "\n"
     ]
    }
   ],
   "source": [
    "ok.grade(\"q3_6\");"
   ]
  },
  {
   "cell_type": "code",
   "execution_count": 25,
   "metadata": {
    "deletable": false,
    "editable": false
   },
   "outputs": [
    {
     "ename": "NameError",
     "evalue": "name 'resample_yes_proportions' is not defined",
     "output_type": "error",
     "traceback": [
      "\u001b[0;31m---------------------------------------------------------------------------\u001b[0m",
      "\u001b[0;31mNameError\u001b[0m                                 Traceback (most recent call last)",
      "\u001b[0;32m<ipython-input-25-8e6d9523f289>\u001b[0m in \u001b[0;36m<module>\u001b[0;34m\u001b[0m\n\u001b[1;32m      1\u001b[0m \u001b[0;31m# Run this cell to plot your confidence interval.\u001b[0m\u001b[0;34m\u001b[0m\u001b[0;34m\u001b[0m\u001b[0;34m\u001b[0m\u001b[0m\n\u001b[0;32m----> 2\u001b[0;31m \u001b[0mTable\u001b[0m\u001b[0;34m(\u001b[0m\u001b[0;34m)\u001b[0m\u001b[0;34m.\u001b[0m\u001b[0mwith_column\u001b[0m\u001b[0;34m(\u001b[0m\u001b[0;34m\"Resample Yes proportion\"\u001b[0m\u001b[0;34m,\u001b[0m \u001b[0mresample_yes_proportions\u001b[0m\u001b[0;34m)\u001b[0m\u001b[0;34m.\u001b[0m\u001b[0mhist\u001b[0m\u001b[0;34m(\u001b[0m\u001b[0mbins\u001b[0m\u001b[0;34m=\u001b[0m\u001b[0mnp\u001b[0m\u001b[0;34m.\u001b[0m\u001b[0marange\u001b[0m\u001b[0;34m(\u001b[0m\u001b[0;36m.2\u001b[0m\u001b[0;34m,\u001b[0m \u001b[0;36m.8\u001b[0m\u001b[0;34m,\u001b[0m \u001b[0;36m.01\u001b[0m\u001b[0;34m)\u001b[0m\u001b[0;34m)\u001b[0m\u001b[0;34m\u001b[0m\u001b[0;34m\u001b[0m\u001b[0m\n\u001b[0m\u001b[1;32m      3\u001b[0m \u001b[0mplt\u001b[0m\u001b[0;34m.\u001b[0m\u001b[0mplot\u001b[0m\u001b[0;34m(\u001b[0m\u001b[0mmake_array\u001b[0m\u001b[0;34m(\u001b[0m\u001b[0mlower_limit\u001b[0m\u001b[0;34m,\u001b[0m \u001b[0mupper_limit\u001b[0m\u001b[0;34m)\u001b[0m\u001b[0;34m,\u001b[0m \u001b[0mmake_array\u001b[0m\u001b[0;34m(\u001b[0m\u001b[0;36m0\u001b[0m\u001b[0;34m,\u001b[0m \u001b[0;36m0\u001b[0m\u001b[0;34m)\u001b[0m\u001b[0;34m,\u001b[0m \u001b[0mc\u001b[0m\u001b[0;34m=\u001b[0m\u001b[0;34m'r'\u001b[0m\u001b[0;34m,\u001b[0m \u001b[0mlw\u001b[0m\u001b[0;34m=\u001b[0m\u001b[0;36m10\u001b[0m\u001b[0;34m)\u001b[0m\u001b[0;34m;\u001b[0m\u001b[0;34m\u001b[0m\u001b[0;34m\u001b[0m\u001b[0m\n",
      "\u001b[0;31mNameError\u001b[0m: name 'resample_yes_proportions' is not defined"
     ]
    }
   ],
   "source": [
    "# Run this cell to plot your confidence interval.\n",
    "Table().with_column(\"Resample Yes proportion\", resample_yes_proportions).hist(bins=np.arange(.2, .8, .01))\n",
    "plt.plot(make_array(lower_limit, upper_limit), make_array(0, 0), c='r', lw=10);"
   ]
  },
  {
   "cell_type": "markdown",
   "metadata": {},
   "source": [
    "<div class=\"hide\">\\pagebreak</div>\n",
    "Your confidence interval should overlap the number 0.5.  That means we can't be very sure whether Proposition 68 is winning, even though the sample Yes proportion is a bit above 0.5.\n",
    "\n",
    "The Yes on 68 campaign really needs to know whether they're winning.  It's impossible to be absolutely sure without polling the whole population, but they'd be okay if the standard deviation of the sample mean were only 0.005.  They ask Michelle to run a new poll with a sample size that's large enough to achieve that.  (Polling is expensive, so the sample also shouldn't be bigger than necessary.)\n",
    "\n",
    "Michelle consults Chapter 14 of your textbook.  Instead of making the conservative assumption that the population standard deviation is 0.5 (coding Yes voters as 1 and No voters as 0), she decides to assume that it's equal to the standard deviation of the sample,\n",
    "\n",
    "$$\\sqrt{(\\text{Yes proportion in the sample}) \\times (\\text{No proportion in the sample})}.$$\n",
    "\n",
    "Under that assumption, Michelle decides that a sample of 9,975 would suffice."
   ]
  },
  {
   "cell_type": "markdown",
   "metadata": {
    "deletable": false,
    "editable": false
   },
   "source": [
    "#### Question 7\n",
    "Does Michelle's sample size achieve the desired standard deviation of sample means? What SD would you achieve with a smaller sample size? A higher sample size? To explore this, first compute the SD of sample means obtained by using Michelle's sample size.\n",
    "\n",
    "<!--\n",
    "BEGIN QUESTION\n",
    "name: q3_7\n",
    "manual: false\n",
    "-->"
   ]
  },
  {
   "cell_type": "code",
   "execution_count": 26,
   "metadata": {
    "ExecuteTime": {
     "end_time": "2018-03-20T04:35:45.882794Z",
     "start_time": "2018-03-20T04:35:45.870760Z"
    },
    "deletable": false,
    "manual_problem_id": "michelle_sample_mean_sd",
    "scrolled": true
   },
   "outputs": [
    {
     "name": "stdout",
     "output_type": "stream",
     "text": [
      "With Michelle's sample size, you would predict a sample mean SD of 0.005000.\n"
     ]
    }
   ],
   "source": [
    "estimated_population_sd = np.sqrt(0.525*0.475)\n",
    "michelle_sample_size = 9975\n",
    "michelle_sample_mean_sd = estimated_population_sd/np.sqrt(michelle_sample_size)\n",
    "print(\"With Michelle's sample size, you would predict a sample mean SD of %f.\" % michelle_sample_mean_sd)"
   ]
  },
  {
   "cell_type": "code",
   "execution_count": 27,
   "metadata": {
    "deletable": false,
    "editable": false
   },
   "outputs": [
    {
     "name": "stdout",
     "output_type": "stream",
     "text": [
      "~~~~~~~~~~~~~~~~~~~~~~~~~~~~~~~~~~~~~~~~~~~~~~~~~~~~~~~~~~~~~~~~~~~~~\n",
      "Running tests\n",
      "\n",
      "---------------------------------------------------------------------\n",
      "Test summary\n",
      "    Passed: 1\n",
      "    Failed: 0\n",
      "[ooooooooook] 100.0% passed\n",
      "\n"
     ]
    }
   ],
   "source": [
    "ok.grade(\"q3_7\");"
   ]
  },
  {
   "cell_type": "markdown",
   "metadata": {
    "deletable": false,
    "editable": false
   },
   "source": [
    "\n",
    "**Question 8**\n",
    "\n",
    "Then, compute the SD of sample means that you would get from a smaller sample size. Ideally, you should pick a number that is significantly smaller, but any sample size smaller than Michelle's will do. \n",
    "\n",
    "\n",
    "<!--\n",
    "BEGIN QUESTION\n",
    "name: q3_8\n",
    "manual: false\n",
    "-->"
   ]
  },
  {
   "cell_type": "code",
   "execution_count": 28,
   "metadata": {
    "ExecuteTime": {
     "end_time": "2018-03-20T04:35:47.010246Z",
     "start_time": "2018-03-20T04:35:47.002724Z"
    },
    "deletable": false,
    "manual_problem_id": "smaller_sample_size"
   },
   "outputs": [
    {
     "name": "stdout",
     "output_type": "stream",
     "text": [
      "With this smaller sample size, you would predict a sample mean SD of 0.016646\n"
     ]
    }
   ],
   "source": [
    "smaller_sample_size = 900\n",
    "smaller_sample_mean_sd = estimated_population_sd/np.sqrt(smaller_sample_size)\n",
    "print(\"With this smaller sample size, you would predict a sample mean SD of %f\" % smaller_sample_mean_sd)"
   ]
  },
  {
   "cell_type": "code",
   "execution_count": 29,
   "metadata": {
    "deletable": false,
    "editable": false
   },
   "outputs": [
    {
     "name": "stdout",
     "output_type": "stream",
     "text": [
      "~~~~~~~~~~~~~~~~~~~~~~~~~~~~~~~~~~~~~~~~~~~~~~~~~~~~~~~~~~~~~~~~~~~~~\n",
      "Running tests\n",
      "\n",
      "---------------------------------------------------------------------\n",
      "Test summary\n",
      "    Passed: 1\n",
      "    Failed: 0\n",
      "[ooooooooook] 100.0% passed\n",
      "\n"
     ]
    }
   ],
   "source": [
    "ok.grade(\"q3_8\");"
   ]
  },
  {
   "cell_type": "markdown",
   "metadata": {
    "deletable": false,
    "editable": false
   },
   "source": [
    "**Question 9**\n",
    "\n",
    "Finally, compute the SD of sample means that you would get from a larger sample size. Here, a number that is significantly larger would make any difference more obvious, but any sample size larger than Michelle's will do. \n",
    "\n",
    "\n",
    "<!--\n",
    "BEGIN QUESTION\n",
    "name: q3_9\n",
    "manual: false\n",
    "-->"
   ]
  },
  {
   "cell_type": "code",
   "execution_count": 30,
   "metadata": {
    "ExecuteTime": {
     "end_time": "2018-03-20T04:35:48.098047Z",
     "start_time": "2018-03-20T04:35:48.089414Z"
    },
    "deletable": false,
    "manual_problem_id": "larger_sample_mean_sd"
   },
   "outputs": [
    {
     "name": "stdout",
     "output_type": "stream",
     "text": [
      "With this larger sample size, you would predict a sample mean SD of 0.004077\n"
     ]
    }
   ],
   "source": [
    "larger_sample_size = 15000\n",
    "larger_sample_mean_sd = estimated_population_sd/np.sqrt(larger_sample_size)\n",
    "print(\"With this larger sample size, you would predict a sample mean SD of %f\" % larger_sample_mean_sd)"
   ]
  },
  {
   "cell_type": "code",
   "execution_count": 31,
   "metadata": {
    "deletable": false,
    "editable": false
   },
   "outputs": [
    {
     "name": "stdout",
     "output_type": "stream",
     "text": [
      "~~~~~~~~~~~~~~~~~~~~~~~~~~~~~~~~~~~~~~~~~~~~~~~~~~~~~~~~~~~~~~~~~~~~~\n",
      "Running tests\n",
      "\n",
      "---------------------------------------------------------------------\n",
      "Test summary\n",
      "    Passed: 1\n",
      "    Failed: 0\n",
      "[ooooooooook] 100.0% passed\n",
      "\n"
     ]
    }
   ],
   "source": [
    "ok.grade(\"q3_9\");"
   ]
  },
  {
   "cell_type": "markdown",
   "metadata": {
    "deletable": false,
    "editable": false
   },
   "source": [
    "#### Question 10\n",
    "Based off of this, was Michelle's sample size approximately the minimum sufficient sample, given her assumption that the sample SD is the same as the population SD? Assign `min_sufficient` to `True` if this 9975 was indeed approximately the minimum sufficient sample, and `False` if it wasn't.\n",
    "\n",
    "<!--\n",
    "BEGIN QUESTION\n",
    "name: q3_10\n",
    "manual: false\n",
    "-->"
   ]
  },
  {
   "cell_type": "code",
   "execution_count": 32,
   "metadata": {
    "ExecuteTime": {
     "end_time": "2018-03-20T04:35:49.134092Z",
     "start_time": "2018-03-20T04:35:49.126066Z"
    },
    "deletable": false,
    "manual_problem_id": "min_sufficient"
   },
   "outputs": [
    {
     "data": {
      "text/plain": [
       "True"
      ]
     },
     "execution_count": 32,
     "metadata": {},
     "output_type": "execute_result"
    }
   ],
   "source": [
    "min_sufficient = True\n",
    "min_sufficient"
   ]
  },
  {
   "cell_type": "code",
   "execution_count": 33,
   "metadata": {
    "deletable": false,
    "editable": false
   },
   "outputs": [
    {
     "name": "stdout",
     "output_type": "stream",
     "text": [
      "~~~~~~~~~~~~~~~~~~~~~~~~~~~~~~~~~~~~~~~~~~~~~~~~~~~~~~~~~~~~~~~~~~~~~\n",
      "Running tests\n",
      "\n",
      "---------------------------------------------------------------------\n",
      "Test summary\n",
      "    Passed: 1\n",
      "    Failed: 0\n",
      "[ooooooooook] 100.0% passed\n",
      "\n"
     ]
    }
   ],
   "source": [
    "ok.grade(\"q3_10\");"
   ]
  },
  {
   "cell_type": "markdown",
   "metadata": {},
   "source": [
    "## 4. Submission\n"
   ]
  },
  {
   "cell_type": "markdown",
   "metadata": {
    "collapsed": true
   },
   "source": [
    "Once you're finished, select \"Save and Checkpoint\" in the File menu and then execute the `submit` cell below. The result will contain a link that you can use to check that your assignment has been submitted successfully. If you submit more than once before the deadline, we will only grade your final submission. If you mistakenly submit the wrong one, you can head to [okpy.org](https://okpy.org/) and flag the correct version. To do so, go to the website, click on this assignment, and find the version you would like to have graded. There should be an option to flag that submission for grading!"
   ]
  },
  {
   "cell_type": "code",
   "execution_count": null,
   "metadata": {},
   "outputs": [],
   "source": [
    "_ = ok.submit()"
   ]
  },
  {
   "cell_type": "code",
   "execution_count": null,
   "metadata": {},
   "outputs": [],
   "source": [
    "# For your convenience, you can run this cell to run all the tests at once!\n",
    "import os\n",
    "print(\"Running all tests...\")\n",
    "_ = [ok.grade(q[:-3]) for q in os.listdir(\"tests\") if q.startswith('q') and len(q) <= 10]\n",
    "print(\"Finished running all tests.\")"
   ]
  },
  {
   "cell_type": "code",
   "execution_count": null,
   "metadata": {},
   "outputs": [],
   "source": []
  }
 ],
 "metadata": {
  "kernelspec": {
   "display_name": "Python 3",
   "language": "python",
   "name": "python3"
  },
  "language_info": {
   "codemirror_mode": {
    "name": "ipython",
    "version": 3
   },
   "file_extension": ".py",
   "mimetype": "text/x-python",
   "name": "python",
   "nbconvert_exporter": "python",
   "pygments_lexer": "ipython3",
   "version": "3.6.8"
  }
 },
 "nbformat": 4,
 "nbformat_minor": 1
}
